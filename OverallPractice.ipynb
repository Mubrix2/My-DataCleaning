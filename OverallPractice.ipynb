{
 "cells": [
  {
   "cell_type": "code",
   "execution_count": 2,
   "id": "6f33b51c-aec9-4d03-92bf-8a2e5f8c7f2f",
   "metadata": {},
   "outputs": [],
   "source": [
    "import numpy as np"
   ]
  },
  {
   "cell_type": "code",
   "execution_count": 3,
   "id": "8b94e6ad-83bf-43a8-b46e-1b0cb29a895c",
   "metadata": {},
   "outputs": [
    {
     "data": {
      "text/plain": [
       "array([[ 0,  3,  6,  9],\n",
       "       [12, 15, 18, 21]])"
      ]
     },
     "execution_count": 3,
     "metadata": {},
     "output_type": "execute_result"
    }
   ],
   "source": [
    "np.arange(0,24,3).reshape(2,4)"
   ]
  },
  {
   "cell_type": "code",
   "execution_count": 4,
   "id": "91809085-0f7f-47fd-a33a-cc14a40d91f2",
   "metadata": {},
   "outputs": [
    {
     "data": {
      "text/plain": [
       "array([[0., 0., 0., 0., 0.],\n",
       "       [0., 0., 0., 0., 0.]])"
      ]
     },
     "execution_count": 4,
     "metadata": {},
     "output_type": "execute_result"
    }
   ],
   "source": [
    "np.zeros((2,5))"
   ]
  },
  {
   "cell_type": "code",
   "execution_count": 5,
   "id": "c7094997-3f01-4268-870c-a0afcaa5fb52",
   "metadata": {},
   "outputs": [
    {
     "data": {
      "text/plain": [
       "array([[1., 1., 1., 1., 1.],\n",
       "       [1., 1., 1., 1., 1.],\n",
       "       [1., 1., 1., 1., 1.]])"
      ]
     },
     "execution_count": 5,
     "metadata": {},
     "output_type": "execute_result"
    }
   ],
   "source": [
    "np.ones((3,5))"
   ]
  },
  {
   "cell_type": "code",
   "execution_count": 6,
   "id": "f5db2fec-e75d-421e-9bd0-7a81ea768568",
   "metadata": {},
   "outputs": [
    {
     "data": {
      "text/plain": [
       "array([[1., 0., 0., 0., 0.],\n",
       "       [0., 1., 0., 0., 0.],\n",
       "       [0., 0., 1., 0., 0.],\n",
       "       [0., 0., 0., 1., 0.],\n",
       "       [0., 0., 0., 0., 1.]])"
      ]
     },
     "execution_count": 6,
     "metadata": {},
     "output_type": "execute_result"
    }
   ],
   "source": [
    "np.eye(5)"
   ]
  },
  {
   "cell_type": "code",
   "execution_count": 7,
   "id": "db186cd1-228c-4886-b54a-1c24ac53352d",
   "metadata": {},
   "outputs": [
    {
     "data": {
      "text/plain": [
       "array([ 1.        ,  1.09090909,  1.18181818,  1.27272727,  1.36363636,\n",
       "        1.45454545,  1.54545455,  1.63636364,  1.72727273,  1.81818182,\n",
       "        1.90909091,  2.        ,  2.09090909,  2.18181818,  2.27272727,\n",
       "        2.36363636,  2.45454545,  2.54545455,  2.63636364,  2.72727273,\n",
       "        2.81818182,  2.90909091,  3.        ,  3.09090909,  3.18181818,\n",
       "        3.27272727,  3.36363636,  3.45454545,  3.54545455,  3.63636364,\n",
       "        3.72727273,  3.81818182,  3.90909091,  4.        ,  4.09090909,\n",
       "        4.18181818,  4.27272727,  4.36363636,  4.45454545,  4.54545455,\n",
       "        4.63636364,  4.72727273,  4.81818182,  4.90909091,  5.        ,\n",
       "        5.09090909,  5.18181818,  5.27272727,  5.36363636,  5.45454545,\n",
       "        5.54545455,  5.63636364,  5.72727273,  5.81818182,  5.90909091,\n",
       "        6.        ,  6.09090909,  6.18181818,  6.27272727,  6.36363636,\n",
       "        6.45454545,  6.54545455,  6.63636364,  6.72727273,  6.81818182,\n",
       "        6.90909091,  7.        ,  7.09090909,  7.18181818,  7.27272727,\n",
       "        7.36363636,  7.45454545,  7.54545455,  7.63636364,  7.72727273,\n",
       "        7.81818182,  7.90909091,  8.        ,  8.09090909,  8.18181818,\n",
       "        8.27272727,  8.36363636,  8.45454545,  8.54545455,  8.63636364,\n",
       "        8.72727273,  8.81818182,  8.90909091,  9.        ,  9.09090909,\n",
       "        9.18181818,  9.27272727,  9.36363636,  9.45454545,  9.54545455,\n",
       "        9.63636364,  9.72727273,  9.81818182,  9.90909091, 10.        ])"
      ]
     },
     "execution_count": 7,
     "metadata": {},
     "output_type": "execute_result"
    }
   ],
   "source": [
    "np.linspace(1,10,100)"
   ]
  },
  {
   "cell_type": "code",
   "execution_count": 10,
   "id": "81bafb9c-cf1f-49c5-810e-2230991cd9da",
   "metadata": {},
   "outputs": [
    {
     "data": {
      "text/plain": [
       "array([[ 2.70684984,  0.62813271,  0.90796945,  0.50382575,  0.65111795],\n",
       "       [-0.31931804, -0.84807698,  0.60596535, -2.01816824,  0.74012206],\n",
       "       [ 0.52881349, -0.58900053,  0.18869531, -0.75887206, -0.93323722],\n",
       "       [ 0.95505651,  0.19079432,  1.97875732,  2.60596728,  0.68350889]])"
      ]
     },
     "execution_count": 10,
     "metadata": {},
     "output_type": "execute_result"
    }
   ],
   "source": [
    "np.random.seed(101)\n",
    "my_arr = np.random.randn(4,5)\n",
    "my_arr"
   ]
  },
  {
   "cell_type": "code",
   "execution_count": 9,
   "id": "3245ea54-4e23-491a-93b4-f8727dc82e11",
   "metadata": {},
   "outputs": [
    {
     "data": {
      "text/plain": [
       "array([[ 0.62813271,  0.90796945,  0.50382575],\n",
       "       [-0.84807698,  0.60596535, -2.01816824],\n",
       "       [-0.58900053,  0.18869531, -0.75887206]])"
      ]
     },
     "execution_count": 9,
     "metadata": {},
     "output_type": "execute_result"
    }
   ],
   "source": [
    "my_arr[:3, 1:4]"
   ]
  },
  {
   "cell_type": "code",
   "execution_count": 9,
   "id": "ec366ab9-4fdd-4719-ba6a-c259862a4e53",
   "metadata": {},
   "outputs": [
    {
     "data": {
      "text/plain": [
       "array([[0.60596535],\n",
       "       [0.18869531]])"
      ]
     },
     "execution_count": 9,
     "metadata": {},
     "output_type": "execute_result"
    }
   ],
   "source": [
    "my_arr[1:3,2:3]"
   ]
  },
  {
   "cell_type": "code",
   "execution_count": 10,
   "id": "bdbb2557-9a38-4289-9466-85eec262e1bd",
   "metadata": {},
   "outputs": [
    {
     "data": {
      "text/plain": [
       "array([[[ 0,  1,  2,  3,  4],\n",
       "        [ 5,  6,  7,  8,  9],\n",
       "        [10, 11, 12, 13, 14],\n",
       "        [15, 16, 17, 18, 19],\n",
       "        [20, 21, 22, 23, 24]],\n",
       "\n",
       "       [[25, 26, 27, 28, 29],\n",
       "        [30, 31, 32, 33, 34],\n",
       "        [35, 36, 37, 38, 39],\n",
       "        [40, 41, 42, 43, 44],\n",
       "        [45, 46, 47, 48, 49]],\n",
       "\n",
       "       [[50, 51, 52, 53, 54],\n",
       "        [55, 56, 57, 58, 59],\n",
       "        [60, 61, 62, 63, 64],\n",
       "        [65, 66, 67, 68, 69],\n",
       "        [70, 71, 72, 73, 74]],\n",
       "\n",
       "       [[75, 76, 77, 78, 79],\n",
       "        [80, 81, 82, 83, 84],\n",
       "        [85, 86, 87, 88, 89],\n",
       "        [90, 91, 92, 93, 94],\n",
       "        [95, 96, 97, 98, 99]]])"
      ]
     },
     "execution_count": 10,
     "metadata": {},
     "output_type": "execute_result"
    }
   ],
   "source": [
    "arr = np.arange(0,100).reshape(4,5,5)\n",
    "arr"
   ]
  },
  {
   "cell_type": "code",
   "execution_count": 11,
   "id": "b449cc53-6abe-41f3-a769-33a4abbbe01a",
   "metadata": {},
   "outputs": [
    {
     "data": {
      "text/plain": [
       "array([[32, 33],\n",
       "       [37, 38]])"
      ]
     },
     "execution_count": 11,
     "metadata": {},
     "output_type": "execute_result"
    }
   ],
   "source": [
    "arr[1][1:3,2:4]"
   ]
  },
  {
   "cell_type": "code",
   "execution_count": 12,
   "id": "7bbabe1b-e6f8-4217-85a9-48118bbbf990",
   "metadata": {},
   "outputs": [
    {
     "data": {
      "text/plain": [
       "9"
      ]
     },
     "execution_count": 12,
     "metadata": {},
     "output_type": "execute_result"
    }
   ],
   "source": [
    "np.random.seed(3)\n",
    "np.random.randint(1,10)"
   ]
  },
  {
   "cell_type": "code",
   "execution_count": 13,
   "id": "6dda28fe-c419-4843-b35d-a184da6ff1c0",
   "metadata": {},
   "outputs": [
    {
     "data": {
      "text/plain": [
       "2"
      ]
     },
     "execution_count": 13,
     "metadata": {},
     "output_type": "execute_result"
    }
   ],
   "source": [
    "my_arr.ndim"
   ]
  },
  {
   "cell_type": "code",
   "execution_count": 14,
   "id": "0d68e15a-34e8-4aa6-839a-8f68f9a6002e",
   "metadata": {},
   "outputs": [
    {
     "data": {
      "text/plain": [
       "(4, 5)"
      ]
     },
     "execution_count": 14,
     "metadata": {},
     "output_type": "execute_result"
    }
   ],
   "source": [
    "my_arr.shape"
   ]
  },
  {
   "cell_type": "code",
   "execution_count": 15,
   "id": "786d83c4-2bed-4b7f-847a-dd4b84c9a1b8",
   "metadata": {},
   "outputs": [
    {
     "data": {
      "text/plain": [
       "array([0., 0., 0., 0., 0., 0., 0., 0., 0., 0.])"
      ]
     },
     "execution_count": 15,
     "metadata": {},
     "output_type": "execute_result"
    }
   ],
   "source": [
    "np.empty(10)"
   ]
  },
  {
   "cell_type": "code",
   "execution_count": 16,
   "id": "ab5d9560-a7be-4ba0-ada6-088105416c9a",
   "metadata": {},
   "outputs": [
    {
     "data": {
      "text/plain": [
       "array([[ 0.50382575,  0.62813271,  0.65111795,  0.90796945,  2.70684984],\n",
       "       [-2.01816824, -0.84807698, -0.31931804,  0.60596535,  0.74012206],\n",
       "       [-0.93323722, -0.75887206, -0.58900053,  0.18869531,  0.52881349],\n",
       "       [ 0.19079432,  0.68350889,  0.95505651,  1.97875732,  2.60596728]])"
      ]
     },
     "execution_count": 16,
     "metadata": {},
     "output_type": "execute_result"
    }
   ],
   "source": [
    "np.sort(my_arr)"
   ]
  },
  {
   "cell_type": "code",
   "execution_count": 17,
   "id": "8b3c3d1c-911e-4b59-be86-ab3060486cac",
   "metadata": {},
   "outputs": [],
   "source": [
    "a1 = np.array(([1,2],[3,4]))\n",
    "\n",
    "a2=np.array(([5,6],[7,8]))"
   ]
  },
  {
   "cell_type": "code",
   "execution_count": 18,
   "id": "6c0b0912-9ddb-4200-af41-dcc7b32e7233",
   "metadata": {},
   "outputs": [
    {
     "data": {
      "text/plain": [
       "array([[1, 2, 5, 6],\n",
       "       [3, 4, 7, 8]])"
      ]
     },
     "execution_count": 18,
     "metadata": {},
     "output_type": "execute_result"
    }
   ],
   "source": [
    "np.hstack((a1,a2))"
   ]
  },
  {
   "cell_type": "code",
   "execution_count": 19,
   "id": "127f34a7-2a6e-47fd-ae15-7fef022ddefc",
   "metadata": {},
   "outputs": [
    {
     "data": {
      "text/plain": [
       "array([[1, 2],\n",
       "       [3, 4],\n",
       "       [5, 6],\n",
       "       [7, 8]])"
      ]
     },
     "execution_count": 19,
     "metadata": {},
     "output_type": "execute_result"
    }
   ],
   "source": [
    "np.vstack((a1,a2))"
   ]
  },
  {
   "cell_type": "code",
   "execution_count": 20,
   "id": "72279769-1f50-41de-bbba-606b2a57e541",
   "metadata": {},
   "outputs": [
    {
     "data": {
      "text/plain": [
       "[array([[ 2.70684984,  0.62813271,  0.90796945],\n",
       "        [-0.31931804, -0.84807698,  0.60596535],\n",
       "        [ 0.52881349, -0.58900053,  0.18869531],\n",
       "        [ 0.95505651,  0.19079432,  1.97875732]]),\n",
       " array([], shape=(4, 0), dtype=float64),\n",
       " array([[ 0.90796945,  0.50382575,  0.65111795],\n",
       "        [ 0.60596535, -2.01816824,  0.74012206],\n",
       "        [ 0.18869531, -0.75887206, -0.93323722],\n",
       "        [ 1.97875732,  2.60596728,  0.68350889]])]"
      ]
     },
     "execution_count": 20,
     "metadata": {},
     "output_type": "execute_result"
    }
   ],
   "source": [
    "np.hsplit(my_arr,(3,2))"
   ]
  },
  {
   "cell_type": "code",
   "execution_count": 21,
   "id": "16505da6-674c-4a81-ba69-6893c5efdf03",
   "metadata": {},
   "outputs": [
    {
     "data": {
      "text/plain": [
       "array([ 0,  1,  2,  3,  4,  5,  6,  7,  8,  9, 10, 11, 12, 13, 14, 15, 16,\n",
       "       17, 18, 19, 20, 21, 22, 23, 24, 25, 26, 27, 28, 29, 30, 31, 32, 33,\n",
       "       34, 35, 36, 37, 38, 39, 40, 41, 42, 43, 44, 45, 46, 47, 48, 49, 50,\n",
       "       51, 52, 53, 54, 55, 56, 57, 58, 59, 60, 61, 62, 63, 64, 65, 66, 67,\n",
       "       68, 69, 70, 71, 72, 73, 74, 75, 76, 77, 78, 79, 80, 81, 82, 83, 84,\n",
       "       85, 86, 87, 88, 89, 90, 91, 92, 93, 94, 95, 96, 97, 98, 99])"
      ]
     },
     "execution_count": 21,
     "metadata": {},
     "output_type": "execute_result"
    }
   ],
   "source": [
    "arr3 = np.arange(0,100)\n",
    "arr3"
   ]
  },
  {
   "cell_type": "code",
   "execution_count": 22,
   "id": "42360e96-bd8c-44fb-983d-0fb0df0701f6",
   "metadata": {},
   "outputs": [
    {
     "data": {
      "text/plain": [
       "array([ 0,  2,  4,  6,  8, 10, 12, 14, 16, 18, 20, 22, 24, 26, 28, 30, 32,\n",
       "       34, 36, 38, 40, 42, 44, 46, 48, 50, 52, 54, 56, 58, 60, 62, 64, 66,\n",
       "       68, 70, 72, 74, 76, 78, 80, 82, 84, 86, 88, 90, 92, 94, 96, 98])"
      ]
     },
     "execution_count": 22,
     "metadata": {},
     "output_type": "execute_result"
    }
   ],
   "source": [
    "arr3[arr3 % 2 == 0]"
   ]
  },
  {
   "cell_type": "code",
   "execution_count": 23,
   "id": "cddcf56e-3ba5-4d32-ad36-e8967cdaf966",
   "metadata": {},
   "outputs": [
    {
     "data": {
      "text/plain": [
       "np.float64(28.861739379323623)"
      ]
     },
     "execution_count": 23,
     "metadata": {},
     "output_type": "execute_result"
    }
   ],
   "source": [
    "arr3[arr3 % 2 == 0].std()"
   ]
  },
  {
   "cell_type": "code",
   "execution_count": 24,
   "id": "f79e06e5-b4ab-4e6f-86d2-0f3bc1509632",
   "metadata": {},
   "outputs": [
    {
     "data": {
      "text/plain": [
       "np.float64(833.0)"
      ]
     },
     "execution_count": 24,
     "metadata": {},
     "output_type": "execute_result"
    }
   ],
   "source": [
    "arr3[arr3 % 2 == 0].var()"
   ]
  },
  {
   "cell_type": "code",
   "execution_count": 25,
   "id": "0c7f4a66-b7c7-4096-b095-4d52eab1531a",
   "metadata": {},
   "outputs": [
    {
     "data": {
      "text/plain": [
       "np.float64(49.0)"
      ]
     },
     "execution_count": 25,
     "metadata": {},
     "output_type": "execute_result"
    }
   ],
   "source": [
    "arr3[arr3 % 2 == 0].mean()"
   ]
  },
  {
   "cell_type": "code",
   "execution_count": 26,
   "id": "956935c4-2de1-4d62-af75-74e978329663",
   "metadata": {},
   "outputs": [
    {
     "data": {
      "text/plain": [
       "np.int64(2450)"
      ]
     },
     "execution_count": 26,
     "metadata": {},
     "output_type": "execute_result"
    }
   ],
   "source": [
    "arr3[arr3 % 2 == 0].sum()"
   ]
  },
  {
   "cell_type": "code",
   "execution_count": 27,
   "id": "8614e9fb-4370-4868-8878-4dfce202f26a",
   "metadata": {},
   "outputs": [
    {
     "data": {
      "text/plain": [
       "array([ 0.,  1.,  2.,  3.,  4.,  5.,  6.,  7.,  8.,  9., 10., 11., 12.,\n",
       "       13., 14., 15., 16., 17., 18., 19., 20., 21., 22., 23., 24., 25.,\n",
       "       26., 27., 28., 29., 30., 31., 32., 33., 34., 35., 36., 37., 38.,\n",
       "       39., 40., 41., 42., 43., 44., 45., 46., 47., 48., 49.])"
      ]
     },
     "execution_count": 27,
     "metadata": {},
     "output_type": "execute_result"
    }
   ],
   "source": [
    "arr3[arr3 % 2 == 0] / 2"
   ]
  },
  {
   "cell_type": "code",
   "execution_count": 28,
   "id": "395ea6c5-b556-4f3f-a7dd-d3932648df11",
   "metadata": {},
   "outputs": [
    {
     "data": {
      "text/plain": [
       "array([ 10,  12,  14,  16,  18,  20,  22,  24,  26,  28,  30,  32,  34,\n",
       "        36,  38,  40,  42,  44,  46,  48,  50,  52,  54,  56,  58,  60,\n",
       "        62,  64,  66,  68,  70,  72,  74,  76,  78,  80,  82,  84,  86,\n",
       "        88,  90,  92,  94,  96,  98, 100, 102, 104, 106, 108])"
      ]
     },
     "execution_count": 28,
     "metadata": {},
     "output_type": "execute_result"
    }
   ],
   "source": [
    "arr3[arr3 % 2 == 0] + 10"
   ]
  },
  {
   "cell_type": "raw",
   "id": "4b0b6732-4251-47d9-8f35-5465c431a484",
   "metadata": {},
   "source": [
    "Series & DataFrame"
   ]
  },
  {
   "cell_type": "code",
   "execution_count": 29,
   "id": "08ad7633-dfe6-45c2-80b1-8d24250b1c20",
   "metadata": {},
   "outputs": [],
   "source": [
    "import pandas as pd"
   ]
  },
  {
   "cell_type": "code",
   "execution_count": 30,
   "id": "6ab58e78-8ff9-4318-ab76-33950692cae1",
   "metadata": {},
   "outputs": [
    {
     "data": {
      "text/plain": [
       "0    A\n",
       "1    B\n",
       "2    C\n",
       "dtype: object"
      ]
     },
     "execution_count": 30,
     "metadata": {},
     "output_type": "execute_result"
    }
   ],
   "source": [
    "ser = pd.Series(['A','B','C'])\n",
    "ser"
   ]
  },
  {
   "cell_type": "code",
   "execution_count": 31,
   "id": "428f1a5d-646c-46bd-af27-1c28ae2a4dd8",
   "metadata": {},
   "outputs": [
    {
     "data": {
      "text/html": [
       "<div>\n",
       "<style scoped>\n",
       "    .dataframe tbody tr th:only-of-type {\n",
       "        vertical-align: middle;\n",
       "    }\n",
       "\n",
       "    .dataframe tbody tr th {\n",
       "        vertical-align: top;\n",
       "    }\n",
       "\n",
       "    .dataframe thead th {\n",
       "        text-align: right;\n",
       "    }\n",
       "</style>\n",
       "<table border=\"1\" class=\"dataframe\">\n",
       "  <thead>\n",
       "    <tr style=\"text-align: right;\">\n",
       "      <th></th>\n",
       "      <th>A</th>\n",
       "      <th>B</th>\n",
       "      <th>C</th>\n",
       "      <th>D</th>\n",
       "      <th>E</th>\n",
       "    </tr>\n",
       "  </thead>\n",
       "  <tbody>\n",
       "    <tr>\n",
       "      <th>1</th>\n",
       "      <td>0</td>\n",
       "      <td>1</td>\n",
       "      <td>2</td>\n",
       "      <td>3</td>\n",
       "      <td>4</td>\n",
       "    </tr>\n",
       "    <tr>\n",
       "      <th>2</th>\n",
       "      <td>5</td>\n",
       "      <td>6</td>\n",
       "      <td>7</td>\n",
       "      <td>8</td>\n",
       "      <td>9</td>\n",
       "    </tr>\n",
       "    <tr>\n",
       "      <th>3</th>\n",
       "      <td>10</td>\n",
       "      <td>11</td>\n",
       "      <td>12</td>\n",
       "      <td>13</td>\n",
       "      <td>14</td>\n",
       "    </tr>\n",
       "    <tr>\n",
       "      <th>4</th>\n",
       "      <td>15</td>\n",
       "      <td>16</td>\n",
       "      <td>17</td>\n",
       "      <td>18</td>\n",
       "      <td>19</td>\n",
       "    </tr>\n",
       "  </tbody>\n",
       "</table>\n",
       "</div>"
      ],
      "text/plain": [
       "    A   B   C   D   E\n",
       "1   0   1   2   3   4\n",
       "2   5   6   7   8   9\n",
       "3  10  11  12  13  14\n",
       "4  15  16  17  18  19"
      ]
     },
     "execution_count": 31,
     "metadata": {},
     "output_type": "execute_result"
    }
   ],
   "source": [
    "df0 = pd.DataFrame(np.arange(0,20).reshape(4,5), index=[1,2,3,4], columns=['A','B','C','D','E'])\n",
    "df0"
   ]
  },
  {
   "cell_type": "code",
   "execution_count": 32,
   "id": "1245b2ab-f64f-486e-95f0-12523c1adb6f",
   "metadata": {},
   "outputs": [
    {
     "data": {
      "text/html": [
       "<div>\n",
       "<style scoped>\n",
       "    .dataframe tbody tr th:only-of-type {\n",
       "        vertical-align: middle;\n",
       "    }\n",
       "\n",
       "    .dataframe tbody tr th {\n",
       "        vertical-align: top;\n",
       "    }\n",
       "\n",
       "    .dataframe thead th {\n",
       "        text-align: right;\n",
       "    }\n",
       "</style>\n",
       "<table border=\"1\" class=\"dataframe\">\n",
       "  <thead>\n",
       "    <tr style=\"text-align: right;\">\n",
       "      <th></th>\n",
       "      <th>A</th>\n",
       "      <th>B</th>\n",
       "      <th>C</th>\n",
       "      <th>D</th>\n",
       "      <th>E</th>\n",
       "    </tr>\n",
       "  </thead>\n",
       "  <tbody>\n",
       "    <tr>\n",
       "      <th>0</th>\n",
       "      <td>-1.029471</td>\n",
       "      <td>1.024807</td>\n",
       "      <td>0.980554</td>\n",
       "      <td>0.027019</td>\n",
       "      <td>-0.460042</td>\n",
       "    </tr>\n",
       "    <tr>\n",
       "      <th>1</th>\n",
       "      <td>-0.057921</td>\n",
       "      <td>2.077574</td>\n",
       "      <td>-0.601312</td>\n",
       "      <td>0.939236</td>\n",
       "      <td>-1.180409</td>\n",
       "    </tr>\n",
       "    <tr>\n",
       "      <th>2</th>\n",
       "      <td>-0.347330</td>\n",
       "      <td>0.066299</td>\n",
       "      <td>-1.627585</td>\n",
       "      <td>0.397886</td>\n",
       "      <td>-1.629157</td>\n",
       "    </tr>\n",
       "    <tr>\n",
       "      <th>3</th>\n",
       "      <td>-0.638936</td>\n",
       "      <td>-0.560810</td>\n",
       "      <td>1.818983</td>\n",
       "      <td>0.156573</td>\n",
       "      <td>-1.203276</td>\n",
       "    </tr>\n",
       "  </tbody>\n",
       "</table>\n",
       "</div>"
      ],
      "text/plain": [
       "          A         B         C         D         E\n",
       "0 -1.029471  1.024807  0.980554  0.027019 -0.460042\n",
       "1 -0.057921  2.077574 -0.601312  0.939236 -1.180409\n",
       "2 -0.347330  0.066299 -1.627585  0.397886 -1.629157\n",
       "3 -0.638936 -0.560810  1.818983  0.156573 -1.203276"
      ]
     },
     "execution_count": 32,
     "metadata": {},
     "output_type": "execute_result"
    }
   ],
   "source": [
    "df1 = pd.DataFrame(np.random.randn(4,5), columns=['A','B','C','D','E'] )\n",
    "df1"
   ]
  },
  {
   "cell_type": "code",
   "execution_count": 33,
   "id": "8efdbd8b-0af8-4dfe-b424-67ab11c59a2d",
   "metadata": {},
   "outputs": [],
   "source": [
    "df1[\"New\"] = df1[\"A\"] + df1[\"B\"]"
   ]
  },
  {
   "cell_type": "code",
   "execution_count": 34,
   "id": "8ba7b97e-6e16-47f3-b54d-dd4767be5502",
   "metadata": {},
   "outputs": [
    {
     "data": {
      "text/html": [
       "<div>\n",
       "<style scoped>\n",
       "    .dataframe tbody tr th:only-of-type {\n",
       "        vertical-align: middle;\n",
       "    }\n",
       "\n",
       "    .dataframe tbody tr th {\n",
       "        vertical-align: top;\n",
       "    }\n",
       "\n",
       "    .dataframe thead th {\n",
       "        text-align: right;\n",
       "    }\n",
       "</style>\n",
       "<table border=\"1\" class=\"dataframe\">\n",
       "  <thead>\n",
       "    <tr style=\"text-align: right;\">\n",
       "      <th></th>\n",
       "      <th>A</th>\n",
       "      <th>B</th>\n",
       "      <th>C</th>\n",
       "      <th>D</th>\n",
       "      <th>E</th>\n",
       "      <th>New</th>\n",
       "    </tr>\n",
       "  </thead>\n",
       "  <tbody>\n",
       "    <tr>\n",
       "      <th>0</th>\n",
       "      <td>-1.029471</td>\n",
       "      <td>1.024807</td>\n",
       "      <td>0.980554</td>\n",
       "      <td>0.027019</td>\n",
       "      <td>-0.460042</td>\n",
       "      <td>-0.004665</td>\n",
       "    </tr>\n",
       "    <tr>\n",
       "      <th>1</th>\n",
       "      <td>-0.057921</td>\n",
       "      <td>2.077574</td>\n",
       "      <td>-0.601312</td>\n",
       "      <td>0.939236</td>\n",
       "      <td>-1.180409</td>\n",
       "      <td>2.019653</td>\n",
       "    </tr>\n",
       "    <tr>\n",
       "      <th>2</th>\n",
       "      <td>-0.347330</td>\n",
       "      <td>0.066299</td>\n",
       "      <td>-1.627585</td>\n",
       "      <td>0.397886</td>\n",
       "      <td>-1.629157</td>\n",
       "      <td>-0.281031</td>\n",
       "    </tr>\n",
       "    <tr>\n",
       "      <th>3</th>\n",
       "      <td>-0.638936</td>\n",
       "      <td>-0.560810</td>\n",
       "      <td>1.818983</td>\n",
       "      <td>0.156573</td>\n",
       "      <td>-1.203276</td>\n",
       "      <td>-1.199745</td>\n",
       "    </tr>\n",
       "  </tbody>\n",
       "</table>\n",
       "</div>"
      ],
      "text/plain": [
       "          A         B         C         D         E       New\n",
       "0 -1.029471  1.024807  0.980554  0.027019 -0.460042 -0.004665\n",
       "1 -0.057921  2.077574 -0.601312  0.939236 -1.180409  2.019653\n",
       "2 -0.347330  0.066299 -1.627585  0.397886 -1.629157 -0.281031\n",
       "3 -0.638936 -0.560810  1.818983  0.156573 -1.203276 -1.199745"
      ]
     },
     "execution_count": 34,
     "metadata": {},
     "output_type": "execute_result"
    }
   ],
   "source": [
    "df1"
   ]
  },
  {
   "cell_type": "code",
   "execution_count": 35,
   "id": "f47275c2-2302-4e59-be5d-2b34c0ccc9a8",
   "metadata": {},
   "outputs": [],
   "source": [
    "df1.drop(\"New\", axis=1, inplace=True)"
   ]
  },
  {
   "cell_type": "code",
   "execution_count": 36,
   "id": "8a1f7cd3-6030-4f80-9041-15924ea39704",
   "metadata": {},
   "outputs": [
    {
     "data": {
      "text/html": [
       "<div>\n",
       "<style scoped>\n",
       "    .dataframe tbody tr th:only-of-type {\n",
       "        vertical-align: middle;\n",
       "    }\n",
       "\n",
       "    .dataframe tbody tr th {\n",
       "        vertical-align: top;\n",
       "    }\n",
       "\n",
       "    .dataframe thead th {\n",
       "        text-align: right;\n",
       "    }\n",
       "</style>\n",
       "<table border=\"1\" class=\"dataframe\">\n",
       "  <thead>\n",
       "    <tr style=\"text-align: right;\">\n",
       "      <th></th>\n",
       "      <th>A</th>\n",
       "      <th>B</th>\n",
       "      <th>C</th>\n",
       "      <th>D</th>\n",
       "      <th>E</th>\n",
       "    </tr>\n",
       "  </thead>\n",
       "  <tbody>\n",
       "    <tr>\n",
       "      <th>0</th>\n",
       "      <td>-1.029471</td>\n",
       "      <td>1.024807</td>\n",
       "      <td>0.980554</td>\n",
       "      <td>0.027019</td>\n",
       "      <td>-0.460042</td>\n",
       "    </tr>\n",
       "    <tr>\n",
       "      <th>1</th>\n",
       "      <td>-0.057921</td>\n",
       "      <td>2.077574</td>\n",
       "      <td>-0.601312</td>\n",
       "      <td>0.939236</td>\n",
       "      <td>-1.180409</td>\n",
       "    </tr>\n",
       "    <tr>\n",
       "      <th>2</th>\n",
       "      <td>-0.347330</td>\n",
       "      <td>0.066299</td>\n",
       "      <td>-1.627585</td>\n",
       "      <td>0.397886</td>\n",
       "      <td>-1.629157</td>\n",
       "    </tr>\n",
       "    <tr>\n",
       "      <th>3</th>\n",
       "      <td>-0.638936</td>\n",
       "      <td>-0.560810</td>\n",
       "      <td>1.818983</td>\n",
       "      <td>0.156573</td>\n",
       "      <td>-1.203276</td>\n",
       "    </tr>\n",
       "  </tbody>\n",
       "</table>\n",
       "</div>"
      ],
      "text/plain": [
       "          A         B         C         D         E\n",
       "0 -1.029471  1.024807  0.980554  0.027019 -0.460042\n",
       "1 -0.057921  2.077574 -0.601312  0.939236 -1.180409\n",
       "2 -0.347330  0.066299 -1.627585  0.397886 -1.629157\n",
       "3 -0.638936 -0.560810  1.818983  0.156573 -1.203276"
      ]
     },
     "execution_count": 36,
     "metadata": {},
     "output_type": "execute_result"
    }
   ],
   "source": [
    "df1"
   ]
  },
  {
   "cell_type": "code",
   "execution_count": 37,
   "id": "961904a3-938a-4f15-8acc-94cf93bdde09",
   "metadata": {},
   "outputs": [
    {
     "data": {
      "text/html": [
       "<div>\n",
       "<style scoped>\n",
       "    .dataframe tbody tr th:only-of-type {\n",
       "        vertical-align: middle;\n",
       "    }\n",
       "\n",
       "    .dataframe tbody tr th {\n",
       "        vertical-align: top;\n",
       "    }\n",
       "\n",
       "    .dataframe thead th {\n",
       "        text-align: right;\n",
       "    }\n",
       "</style>\n",
       "<table border=\"1\" class=\"dataframe\">\n",
       "  <thead>\n",
       "    <tr style=\"text-align: right;\">\n",
       "      <th></th>\n",
       "      <th>C</th>\n",
       "      <th>D</th>\n",
       "    </tr>\n",
       "  </thead>\n",
       "  <tbody>\n",
       "    <tr>\n",
       "      <th>0</th>\n",
       "      <td>0.980554</td>\n",
       "      <td>0.027019</td>\n",
       "    </tr>\n",
       "    <tr>\n",
       "      <th>1</th>\n",
       "      <td>-0.601312</td>\n",
       "      <td>0.939236</td>\n",
       "    </tr>\n",
       "    <tr>\n",
       "      <th>2</th>\n",
       "      <td>-1.627585</td>\n",
       "      <td>0.397886</td>\n",
       "    </tr>\n",
       "    <tr>\n",
       "      <th>3</th>\n",
       "      <td>1.818983</td>\n",
       "      <td>0.156573</td>\n",
       "    </tr>\n",
       "  </tbody>\n",
       "</table>\n",
       "</div>"
      ],
      "text/plain": [
       "          C         D\n",
       "0  0.980554  0.027019\n",
       "1 -0.601312  0.939236\n",
       "2 -1.627585  0.397886\n",
       "3  1.818983  0.156573"
      ]
     },
     "execution_count": 37,
     "metadata": {},
     "output_type": "execute_result"
    }
   ],
   "source": [
    "df1[[\"C\",\"D\"]]"
   ]
  },
  {
   "cell_type": "code",
   "execution_count": 38,
   "id": "80ac8756-a06a-4bbd-a8e4-6b2421a6f3fa",
   "metadata": {},
   "outputs": [
    {
     "data": {
      "text/plain": [
       "A   -0.347330\n",
       "B    0.066299\n",
       "C   -1.627585\n",
       "D    0.397886\n",
       "E   -1.629157\n",
       "Name: 2, dtype: float64"
      ]
     },
     "execution_count": 38,
     "metadata": {},
     "output_type": "execute_result"
    }
   ],
   "source": [
    "df1.loc[2]"
   ]
  },
  {
   "cell_type": "code",
   "execution_count": 39,
   "id": "5f826bf9-181d-46d0-a648-db5b5887a526",
   "metadata": {},
   "outputs": [
    {
     "data": {
      "text/html": [
       "<div>\n",
       "<style scoped>\n",
       "    .dataframe tbody tr th:only-of-type {\n",
       "        vertical-align: middle;\n",
       "    }\n",
       "\n",
       "    .dataframe tbody tr th {\n",
       "        vertical-align: top;\n",
       "    }\n",
       "\n",
       "    .dataframe thead th {\n",
       "        text-align: right;\n",
       "    }\n",
       "</style>\n",
       "<table border=\"1\" class=\"dataframe\">\n",
       "  <thead>\n",
       "    <tr style=\"text-align: right;\">\n",
       "      <th></th>\n",
       "      <th>A</th>\n",
       "      <th>B</th>\n",
       "      <th>C</th>\n",
       "      <th>D</th>\n",
       "      <th>E</th>\n",
       "    </tr>\n",
       "  </thead>\n",
       "  <tbody>\n",
       "    <tr>\n",
       "      <th>0</th>\n",
       "      <td>-1.029471</td>\n",
       "      <td>1.024807</td>\n",
       "      <td>0.980554</td>\n",
       "      <td>0.027019</td>\n",
       "      <td>-0.460042</td>\n",
       "    </tr>\n",
       "    <tr>\n",
       "      <th>1</th>\n",
       "      <td>-0.057921</td>\n",
       "      <td>2.077574</td>\n",
       "      <td>-0.601312</td>\n",
       "      <td>0.939236</td>\n",
       "      <td>-1.180409</td>\n",
       "    </tr>\n",
       "    <tr>\n",
       "      <th>2</th>\n",
       "      <td>-0.347330</td>\n",
       "      <td>0.066299</td>\n",
       "      <td>-1.627585</td>\n",
       "      <td>0.397886</td>\n",
       "      <td>-1.629157</td>\n",
       "    </tr>\n",
       "    <tr>\n",
       "      <th>3</th>\n",
       "      <td>-0.638936</td>\n",
       "      <td>-0.560810</td>\n",
       "      <td>1.818983</td>\n",
       "      <td>0.156573</td>\n",
       "      <td>-1.203276</td>\n",
       "    </tr>\n",
       "  </tbody>\n",
       "</table>\n",
       "</div>"
      ],
      "text/plain": [
       "          A         B         C         D         E\n",
       "0 -1.029471  1.024807  0.980554  0.027019 -0.460042\n",
       "1 -0.057921  2.077574 -0.601312  0.939236 -1.180409\n",
       "2 -0.347330  0.066299 -1.627585  0.397886 -1.629157\n",
       "3 -0.638936 -0.560810  1.818983  0.156573 -1.203276"
      ]
     },
     "execution_count": 39,
     "metadata": {},
     "output_type": "execute_result"
    }
   ],
   "source": [
    "df1"
   ]
  },
  {
   "cell_type": "code",
   "execution_count": 40,
   "id": "3a04b58a-bfdd-4385-a369-f65937b7704f",
   "metadata": {},
   "outputs": [
    {
     "data": {
      "text/html": [
       "<div>\n",
       "<style scoped>\n",
       "    .dataframe tbody tr th:only-of-type {\n",
       "        vertical-align: middle;\n",
       "    }\n",
       "\n",
       "    .dataframe tbody tr th {\n",
       "        vertical-align: top;\n",
       "    }\n",
       "\n",
       "    .dataframe thead th {\n",
       "        text-align: right;\n",
       "    }\n",
       "</style>\n",
       "<table border=\"1\" class=\"dataframe\">\n",
       "  <thead>\n",
       "    <tr style=\"text-align: right;\">\n",
       "      <th></th>\n",
       "      <th>B</th>\n",
       "      <th>C</th>\n",
       "    </tr>\n",
       "  </thead>\n",
       "  <tbody>\n",
       "    <tr>\n",
       "      <th>1</th>\n",
       "      <td>2.077574</td>\n",
       "      <td>-0.601312</td>\n",
       "    </tr>\n",
       "    <tr>\n",
       "      <th>2</th>\n",
       "      <td>0.066299</td>\n",
       "      <td>-1.627585</td>\n",
       "    </tr>\n",
       "  </tbody>\n",
       "</table>\n",
       "</div>"
      ],
      "text/plain": [
       "          B         C\n",
       "1  2.077574 -0.601312\n",
       "2  0.066299 -1.627585"
      ]
     },
     "execution_count": 40,
     "metadata": {},
     "output_type": "execute_result"
    }
   ],
   "source": [
    "df1.loc[[1,2],[\"B\",\"C\"]]"
   ]
  },
  {
   "cell_type": "code",
   "execution_count": 41,
   "id": "69397edd-a76c-4a9c-88b3-8a02f4598865",
   "metadata": {},
   "outputs": [
    {
     "data": {
      "text/html": [
       "<div>\n",
       "<style scoped>\n",
       "    .dataframe tbody tr th:only-of-type {\n",
       "        vertical-align: middle;\n",
       "    }\n",
       "\n",
       "    .dataframe tbody tr th {\n",
       "        vertical-align: top;\n",
       "    }\n",
       "\n",
       "    .dataframe thead th {\n",
       "        text-align: right;\n",
       "    }\n",
       "</style>\n",
       "<table border=\"1\" class=\"dataframe\">\n",
       "  <thead>\n",
       "    <tr style=\"text-align: right;\">\n",
       "      <th></th>\n",
       "      <th>A</th>\n",
       "      <th>B</th>\n",
       "      <th>C</th>\n",
       "      <th>D</th>\n",
       "      <th>E</th>\n",
       "    </tr>\n",
       "  </thead>\n",
       "  <tbody>\n",
       "    <tr>\n",
       "      <th>0</th>\n",
       "      <td>-1.029471</td>\n",
       "      <td>1.024807</td>\n",
       "      <td>0.980554</td>\n",
       "      <td>0.027019</td>\n",
       "      <td>-0.460042</td>\n",
       "    </tr>\n",
       "    <tr>\n",
       "      <th>1</th>\n",
       "      <td>-0.057921</td>\n",
       "      <td>2.077574</td>\n",
       "      <td>-0.601312</td>\n",
       "      <td>0.939236</td>\n",
       "      <td>-1.180409</td>\n",
       "    </tr>\n",
       "    <tr>\n",
       "      <th>2</th>\n",
       "      <td>-0.347330</td>\n",
       "      <td>0.066299</td>\n",
       "      <td>-1.627585</td>\n",
       "      <td>0.397886</td>\n",
       "      <td>-1.629157</td>\n",
       "    </tr>\n",
       "    <tr>\n",
       "      <th>3</th>\n",
       "      <td>-0.638936</td>\n",
       "      <td>-0.560810</td>\n",
       "      <td>1.818983</td>\n",
       "      <td>0.156573</td>\n",
       "      <td>-1.203276</td>\n",
       "    </tr>\n",
       "  </tbody>\n",
       "</table>\n",
       "</div>"
      ],
      "text/plain": [
       "          A         B         C         D         E\n",
       "0 -1.029471  1.024807  0.980554  0.027019 -0.460042\n",
       "1 -0.057921  2.077574 -0.601312  0.939236 -1.180409\n",
       "2 -0.347330  0.066299 -1.627585  0.397886 -1.629157\n",
       "3 -0.638936 -0.560810  1.818983  0.156573 -1.203276"
      ]
     },
     "execution_count": 41,
     "metadata": {},
     "output_type": "execute_result"
    }
   ],
   "source": [
    "df1[(df1[\"C\"] > 0) | (df1[\"D\"] > 0)]"
   ]
  },
  {
   "cell_type": "code",
   "execution_count": 42,
   "id": "c994a708-b1b0-4e9c-82dd-cbf16379a56e",
   "metadata": {},
   "outputs": [
    {
     "data": {
      "text/html": [
       "<div>\n",
       "<style scoped>\n",
       "    .dataframe tbody tr th:only-of-type {\n",
       "        vertical-align: middle;\n",
       "    }\n",
       "\n",
       "    .dataframe tbody tr th {\n",
       "        vertical-align: top;\n",
       "    }\n",
       "\n",
       "    .dataframe thead th {\n",
       "        text-align: right;\n",
       "    }\n",
       "</style>\n",
       "<table border=\"1\" class=\"dataframe\">\n",
       "  <thead>\n",
       "    <tr style=\"text-align: right;\">\n",
       "      <th></th>\n",
       "      <th>A</th>\n",
       "      <th>B</th>\n",
       "      <th>C</th>\n",
       "      <th>D</th>\n",
       "      <th>E</th>\n",
       "      <th>New</th>\n",
       "    </tr>\n",
       "  </thead>\n",
       "  <tbody>\n",
       "    <tr>\n",
       "      <th>0</th>\n",
       "      <td>-1.029471</td>\n",
       "      <td>1.024807</td>\n",
       "      <td>0.980554</td>\n",
       "      <td>0.027019</td>\n",
       "      <td>-0.460042</td>\n",
       "      <td>a</td>\n",
       "    </tr>\n",
       "    <tr>\n",
       "      <th>1</th>\n",
       "      <td>-0.057921</td>\n",
       "      <td>2.077574</td>\n",
       "      <td>-0.601312</td>\n",
       "      <td>0.939236</td>\n",
       "      <td>-1.180409</td>\n",
       "      <td>b</td>\n",
       "    </tr>\n",
       "    <tr>\n",
       "      <th>2</th>\n",
       "      <td>-0.347330</td>\n",
       "      <td>0.066299</td>\n",
       "      <td>-1.627585</td>\n",
       "      <td>0.397886</td>\n",
       "      <td>-1.629157</td>\n",
       "      <td>c</td>\n",
       "    </tr>\n",
       "    <tr>\n",
       "      <th>3</th>\n",
       "      <td>-0.638936</td>\n",
       "      <td>-0.560810</td>\n",
       "      <td>1.818983</td>\n",
       "      <td>0.156573</td>\n",
       "      <td>-1.203276</td>\n",
       "      <td>d</td>\n",
       "    </tr>\n",
       "  </tbody>\n",
       "</table>\n",
       "</div>"
      ],
      "text/plain": [
       "          A         B         C         D         E New\n",
       "0 -1.029471  1.024807  0.980554  0.027019 -0.460042   a\n",
       "1 -0.057921  2.077574 -0.601312  0.939236 -1.180409   b\n",
       "2 -0.347330  0.066299 -1.627585  0.397886 -1.629157   c\n",
       "3 -0.638936 -0.560810  1.818983  0.156573 -1.203276   d"
      ]
     },
     "execution_count": 42,
     "metadata": {},
     "output_type": "execute_result"
    }
   ],
   "source": [
    "df1[\"New\"] = ['a','b','c','d']\n",
    "df1"
   ]
  },
  {
   "cell_type": "code",
   "execution_count": 43,
   "id": "ad822ca4-4716-4f9b-8d65-fd55ed893c3f",
   "metadata": {},
   "outputs": [
    {
     "data": {
      "text/html": [
       "<div>\n",
       "<style scoped>\n",
       "    .dataframe tbody tr th:only-of-type {\n",
       "        vertical-align: middle;\n",
       "    }\n",
       "\n",
       "    .dataframe tbody tr th {\n",
       "        vertical-align: top;\n",
       "    }\n",
       "\n",
       "    .dataframe thead th {\n",
       "        text-align: right;\n",
       "    }\n",
       "</style>\n",
       "<table border=\"1\" class=\"dataframe\">\n",
       "  <thead>\n",
       "    <tr style=\"text-align: right;\">\n",
       "      <th></th>\n",
       "      <th>A</th>\n",
       "      <th>B</th>\n",
       "      <th>C</th>\n",
       "      <th>D</th>\n",
       "      <th>E</th>\n",
       "    </tr>\n",
       "    <tr>\n",
       "      <th>New</th>\n",
       "      <th></th>\n",
       "      <th></th>\n",
       "      <th></th>\n",
       "      <th></th>\n",
       "      <th></th>\n",
       "    </tr>\n",
       "  </thead>\n",
       "  <tbody>\n",
       "    <tr>\n",
       "      <th>a</th>\n",
       "      <td>-1.029471</td>\n",
       "      <td>1.024807</td>\n",
       "      <td>0.980554</td>\n",
       "      <td>0.027019</td>\n",
       "      <td>-0.460042</td>\n",
       "    </tr>\n",
       "    <tr>\n",
       "      <th>b</th>\n",
       "      <td>-0.057921</td>\n",
       "      <td>2.077574</td>\n",
       "      <td>-0.601312</td>\n",
       "      <td>0.939236</td>\n",
       "      <td>-1.180409</td>\n",
       "    </tr>\n",
       "    <tr>\n",
       "      <th>c</th>\n",
       "      <td>-0.347330</td>\n",
       "      <td>0.066299</td>\n",
       "      <td>-1.627585</td>\n",
       "      <td>0.397886</td>\n",
       "      <td>-1.629157</td>\n",
       "    </tr>\n",
       "    <tr>\n",
       "      <th>d</th>\n",
       "      <td>-0.638936</td>\n",
       "      <td>-0.560810</td>\n",
       "      <td>1.818983</td>\n",
       "      <td>0.156573</td>\n",
       "      <td>-1.203276</td>\n",
       "    </tr>\n",
       "  </tbody>\n",
       "</table>\n",
       "</div>"
      ],
      "text/plain": [
       "            A         B         C         D         E\n",
       "New                                                  \n",
       "a   -1.029471  1.024807  0.980554  0.027019 -0.460042\n",
       "b   -0.057921  2.077574 -0.601312  0.939236 -1.180409\n",
       "c   -0.347330  0.066299 -1.627585  0.397886 -1.629157\n",
       "d   -0.638936 -0.560810  1.818983  0.156573 -1.203276"
      ]
     },
     "execution_count": 43,
     "metadata": {},
     "output_type": "execute_result"
    }
   ],
   "source": [
    "df1.set_index(\"New\")"
   ]
  },
  {
   "cell_type": "code",
   "execution_count": null,
   "id": "0aaaad24-5464-4173-be62-f31139b5c525",
   "metadata": {},
   "outputs": [],
   "source": []
  },
  {
   "cell_type": "code",
   "execution_count": null,
   "id": "08bd80d3-41c2-4623-8787-6caef08f9cc5",
   "metadata": {},
   "outputs": [],
   "source": []
  },
  {
   "cell_type": "code",
   "execution_count": null,
   "id": "61121090-2278-464f-9095-904c61d506c5",
   "metadata": {},
   "outputs": [],
   "source": []
  },
  {
   "cell_type": "code",
   "execution_count": null,
   "id": "f86b0f1c-3dee-4bac-ad1f-3c9f0daa2b15",
   "metadata": {},
   "outputs": [],
   "source": []
  }
 ],
 "metadata": {
  "kernelspec": {
   "display_name": "Python 3 (ipykernel)",
   "language": "python",
   "name": "python3"
  },
  "language_info": {
   "codemirror_mode": {
    "name": "ipython",
    "version": 3
   },
   "file_extension": ".py",
   "mimetype": "text/x-python",
   "name": "python",
   "nbconvert_exporter": "python",
   "pygments_lexer": "ipython3",
   "version": "3.12.4"
  }
 },
 "nbformat": 4,
 "nbformat_minor": 5
}
