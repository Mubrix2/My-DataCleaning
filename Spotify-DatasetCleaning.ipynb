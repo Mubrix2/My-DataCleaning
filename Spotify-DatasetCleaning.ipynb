{
 "cells": [
  {
   "cell_type": "code",
   "execution_count": 76,
   "id": "4f4b91a1-1dc6-4569-941e-e1d0d0df40f8",
   "metadata": {},
   "outputs": [],
   "source": [
    "import pandas as pd\n",
    "import matplotlib.pyplot as plt\n",
    "%matplotlib inline\n",
    "import seaborn as sns"
   ]
  },
  {
   "cell_type": "code",
   "execution_count": 77,
   "id": "aa8ceead-fefb-45fd-90a8-352c489d4ead",
   "metadata": {},
   "outputs": [
    {
     "data": {
      "text/html": [
       "<div>\n",
       "<style scoped>\n",
       "    .dataframe tbody tr th:only-of-type {\n",
       "        vertical-align: middle;\n",
       "    }\n",
       "\n",
       "    .dataframe tbody tr th {\n",
       "        vertical-align: top;\n",
       "    }\n",
       "\n",
       "    .dataframe thead th {\n",
       "        text-align: right;\n",
       "    }\n",
       "</style>\n",
       "<table border=\"1\" class=\"dataframe\">\n",
       "  <thead>\n",
       "    <tr style=\"text-align: right;\">\n",
       "      <th></th>\n",
       "      <th>Artist and Title</th>\n",
       "      <th>Streams</th>\n",
       "      <th>Daily</th>\n",
       "    </tr>\n",
       "  </thead>\n",
       "  <tbody>\n",
       "    <tr>\n",
       "      <th>0</th>\n",
       "      <td>The Weeknd - Blinding Lights</td>\n",
       "      <td>3,783,983,806</td>\n",
       "      <td>1,736,378</td>\n",
       "    </tr>\n",
       "    <tr>\n",
       "      <th>1</th>\n",
       "      <td>Ed Sheeran - Shape of You</td>\n",
       "      <td>3,616,649,759</td>\n",
       "      <td>1,135,140</td>\n",
       "    </tr>\n",
       "    <tr>\n",
       "      <th>2</th>\n",
       "      <td>Lewis Capaldi - Someone You Loved</td>\n",
       "      <td>2,958,875,491</td>\n",
       "      <td>1,522,093</td>\n",
       "    </tr>\n",
       "    <tr>\n",
       "      <th>3</th>\n",
       "      <td>Post Malone - Sunflower</td>\n",
       "      <td>2,898,311,408</td>\n",
       "      <td>1,871,177</td>\n",
       "    </tr>\n",
       "    <tr>\n",
       "      <th>4</th>\n",
       "      <td>Tones And I - Dance Monkey</td>\n",
       "      <td>2,896,024,418</td>\n",
       "      <td>666,818</td>\n",
       "    </tr>\n",
       "  </tbody>\n",
       "</table>\n",
       "</div>"
      ],
      "text/plain": [
       "                    Artist and Title        Streams      Daily\n",
       "0       The Weeknd - Blinding Lights  3,783,983,806  1,736,378\n",
       "1          Ed Sheeran - Shape of You  3,616,649,759  1,135,140\n",
       "2  Lewis Capaldi - Someone You Loved  2,958,875,491  1,522,093\n",
       "3            Post Malone - Sunflower  2,898,311,408  1,871,177\n",
       "4         Tones And I - Dance Monkey  2,896,024,418    666,818"
      ]
     },
     "execution_count": 77,
     "metadata": {},
     "output_type": "execute_result"
    }
   ],
   "source": [
    "df = pd.read_csv('Spotify most streamed.csv')\n",
    "df.head()"
   ]
  },
  {
   "cell_type": "code",
   "execution_count": 78,
   "id": "a7db2b5f-9dd2-4870-9d0b-bb177270147d",
   "metadata": {},
   "outputs": [
    {
     "name": "stdout",
     "output_type": "stream",
     "text": [
      "<class 'pandas.core.frame.DataFrame'>\n",
      "RangeIndex: 2500 entries, 0 to 2499\n",
      "Data columns (total 3 columns):\n",
      " #   Column            Non-Null Count  Dtype \n",
      "---  ------            --------------  ----- \n",
      " 0   Artist and Title  2500 non-null   object\n",
      " 1   Streams           2500 non-null   object\n",
      " 2   Daily             2497 non-null   object\n",
      "dtypes: object(3)\n",
      "memory usage: 58.7+ KB\n"
     ]
    }
   ],
   "source": [
    "df.info()"
   ]
  },
  {
   "cell_type": "code",
   "execution_count": 79,
   "id": "29b52994-606d-441f-866e-bd8bbb07246d",
   "metadata": {},
   "outputs": [
    {
     "data": {
      "text/plain": [
       "Artist and Title    0\n",
       "Streams             0\n",
       "Daily               3\n",
       "dtype: int64"
      ]
     },
     "execution_count": 79,
     "metadata": {},
     "output_type": "execute_result"
    }
   ],
   "source": [
    "df.isna().sum()"
   ]
  },
  {
   "cell_type": "code",
   "execution_count": 80,
   "id": "712793bb-0aa0-495c-b20d-986316fd85f3",
   "metadata": {},
   "outputs": [],
   "source": [
    "df = df.dropna()"
   ]
  },
  {
   "cell_type": "code",
   "execution_count": 81,
   "id": "5b573c30-e380-4dae-80a9-7f2cb0ae3924",
   "metadata": {},
   "outputs": [
    {
     "data": {
      "text/plain": [
       "Artist and Title    0\n",
       "Streams             0\n",
       "Daily               0\n",
       "dtype: int64"
      ]
     },
     "execution_count": 81,
     "metadata": {},
     "output_type": "execute_result"
    }
   ],
   "source": [
    "df.isna().sum()"
   ]
  },
  {
   "cell_type": "code",
   "execution_count": 83,
   "id": "79f36412-6125-4679-a8ba-60926329fa78",
   "metadata": {},
   "outputs": [
    {
     "data": {
      "text/plain": [
       "0    3783983806\n",
       "1    3616649759\n",
       "2    2958875491\n",
       "3    2898311408\n",
       "4    2896024418\n",
       "Name: Streams, dtype: int64"
      ]
     },
     "execution_count": 83,
     "metadata": {},
     "output_type": "execute_result"
    }
   ],
   "source": [
    "df['Streams'] = df['Streams'].str.replace(',', '').astype(int)\n",
    "df['Streams'].head()"
   ]
  },
  {
   "cell_type": "code",
   "execution_count": 84,
   "id": "249529ad-80ca-4e59-a769-1cf8474ca7dc",
   "metadata": {},
   "outputs": [
    {
     "data": {
      "text/plain": [
       "0    1736378\n",
       "1    1135140\n",
       "2    1522093\n",
       "3    1871177\n",
       "4     666818\n",
       "Name: Daily, dtype: int64"
      ]
     },
     "execution_count": 84,
     "metadata": {},
     "output_type": "execute_result"
    }
   ],
   "source": [
    "df['Daily'] = df['Daily'].str.replace(',','').astype(int)\n",
    "df['Daily'].head()"
   ]
  },
  {
   "cell_type": "code",
   "execution_count": 85,
   "id": "732dafde-18ff-49b3-bd6f-46bca83603c6",
   "metadata": {},
   "outputs": [],
   "source": [
    "df['Artist'] = df['Artist and Title'].apply(lambda x: x.split('-')[0])\n",
    "df['Title'] = df['Artist and Title'].apply(lambda x: x.split('-')[1])"
   ]
  },
  {
   "cell_type": "code",
   "execution_count": 86,
   "id": "30a5c97b-c529-4198-a022-e3a327d60c46",
   "metadata": {},
   "outputs": [
    {
     "data": {
      "text/plain": [
       "Index(['Artist and Title', 'Streams', 'Daily', 'Artist', 'Title'], dtype='object')"
      ]
     },
     "execution_count": 86,
     "metadata": {},
     "output_type": "execute_result"
    }
   ],
   "source": [
    "df.columns"
   ]
  },
  {
   "cell_type": "code",
   "execution_count": 87,
   "id": "52ca315a-4df6-4427-bde0-1faf8ba2b5a4",
   "metadata": {},
   "outputs": [
    {
     "data": {
      "text/plain": [
       "<Axes: ylabel='Density'>"
      ]
     },
     "execution_count": 87,
     "metadata": {},
     "output_type": "execute_result"
    },
    {
     "data": {
      "image/png": "[encoded data removed]",
      "text/plain": [
       "<Figure size 640x480 with 1 Axes>"
      ]
     },
     "metadata": {},
     "output_type": "display_data"
    }
   ],
   "source": [
    "df.Streams.plot.density()"
   ]
  },
  {
   "cell_type": "code",
   "execution_count": 88,
   "id": "606c8e47-5fb3-46ff-82c1-2fb18e133a93",
   "metadata": {},
   "outputs": [],
   "source": [
    "df.drop(['Artist and Title'], axis=1, inplace=True)"
   ]
  },
  {
   "cell_type": "code",
   "execution_count": 89,
   "id": "c048b0b0-b684-4721-896a-f7484ebfb5b6",
   "metadata": {},
   "outputs": [
    {
     "data": {
      "text/html": [
       "<div>\n",
       "<style scoped>\n",
       "    .dataframe tbody tr th:only-of-type {\n",
       "        vertical-align: middle;\n",
       "    }\n",
       "\n",
       "    .dataframe tbody tr th {\n",
       "        vertical-align: top;\n",
       "    }\n",
       "\n",
       "    .dataframe thead th {\n",
       "        text-align: right;\n",
       "    }\n",
       "</style>\n",
       "<table border=\"1\" class=\"dataframe\">\n",
       "  <thead>\n",
       "    <tr style=\"text-align: right;\">\n",
       "      <th></th>\n",
       "      <th>Streams</th>\n",
       "      <th>Daily</th>\n",
       "      <th>Artist</th>\n",
       "      <th>Title</th>\n",
       "    </tr>\n",
       "  </thead>\n",
       "  <tbody>\n",
       "    <tr>\n",
       "      <th>0</th>\n",
       "      <td>3783983806</td>\n",
       "      <td>1736378</td>\n",
       "      <td>The Weeknd</td>\n",
       "      <td>Blinding Lights</td>\n",
       "    </tr>\n",
       "    <tr>\n",
       "      <th>1</th>\n",
       "      <td>3616649759</td>\n",
       "      <td>1135140</td>\n",
       "      <td>Ed Sheeran</td>\n",
       "      <td>Shape of You</td>\n",
       "    </tr>\n",
       "    <tr>\n",
       "      <th>2</th>\n",
       "      <td>2958875491</td>\n",
       "      <td>1522093</td>\n",
       "      <td>Lewis Capaldi</td>\n",
       "      <td>Someone You Loved</td>\n",
       "    </tr>\n",
       "    <tr>\n",
       "      <th>3</th>\n",
       "      <td>2898311408</td>\n",
       "      <td>1871177</td>\n",
       "      <td>Post Malone</td>\n",
       "      <td>Sunflower</td>\n",
       "    </tr>\n",
       "    <tr>\n",
       "      <th>4</th>\n",
       "      <td>2896024418</td>\n",
       "      <td>666818</td>\n",
       "      <td>Tones And I</td>\n",
       "      <td>Dance Monkey</td>\n",
       "    </tr>\n",
       "    <tr>\n",
       "      <th>...</th>\n",
       "      <td>...</td>\n",
       "      <td>...</td>\n",
       "      <td>...</td>\n",
       "      <td>...</td>\n",
       "    </tr>\n",
       "    <tr>\n",
       "      <th>2495</th>\n",
       "      <td>399549516</td>\n",
       "      <td>250073</td>\n",
       "      <td>Richard Marx</td>\n",
       "      <td>Right Here Waiting</td>\n",
       "    </tr>\n",
       "    <tr>\n",
       "      <th>2496</th>\n",
       "      <td>399218096</td>\n",
       "      <td>617797</td>\n",
       "      <td>The Neighbourhood</td>\n",
       "      <td>You Get Me So High</td>\n",
       "    </tr>\n",
       "    <tr>\n",
       "      <th>2497</th>\n",
       "      <td>398936748</td>\n",
       "      <td>370661</td>\n",
       "      <td>Clairo</td>\n",
       "      <td>Bubble Gum</td>\n",
       "    </tr>\n",
       "    <tr>\n",
       "      <th>2498</th>\n",
       "      <td>398725594</td>\n",
       "      <td>1250615</td>\n",
       "      <td>Bing Crosby</td>\n",
       "      <td>White Christmas</td>\n",
       "    </tr>\n",
       "    <tr>\n",
       "      <th>2499</th>\n",
       "      <td>398310263</td>\n",
       "      <td>339498</td>\n",
       "      <td>Shaggy</td>\n",
       "      <td>Angel</td>\n",
       "    </tr>\n",
       "  </tbody>\n",
       "</table>\n",
       "<p>2497 rows × 4 columns</p>\n",
       "</div>"
      ],
      "text/plain": [
       "         Streams    Daily              Artist                Title\n",
       "0     3783983806  1736378         The Weeknd       Blinding Lights\n",
       "1     3616649759  1135140         Ed Sheeran          Shape of You\n",
       "2     2958875491  1522093      Lewis Capaldi     Someone You Loved\n",
       "3     2898311408  1871177        Post Malone             Sunflower\n",
       "4     2896024418   666818        Tones And I          Dance Monkey\n",
       "...          ...      ...                 ...                  ...\n",
       "2495   399549516   250073       Richard Marx    Right Here Waiting\n",
       "2496   399218096   617797  The Neighbourhood    You Get Me So High\n",
       "2497   398936748   370661             Clairo            Bubble Gum\n",
       "2498   398725594  1250615        Bing Crosby       White Christmas\n",
       "2499   398310263   339498             Shaggy                 Angel\n",
       "\n",
       "[2497 rows x 4 columns]"
      ]
     },
     "execution_count": 89,
     "metadata": {},
     "output_type": "execute_result"
    }
   ],
   "source": [
    "df"
   ]
  },
  {
   "cell_type": "code",
   "execution_count": 90,
   "id": "6032a14e-8618-4aed-bb21-6a76a3426217",
   "metadata": {},
   "outputs": [
    {
     "data": {
      "text/plain": [
       "array(['The Weeknd ', 'Ed Sheeran ', 'Lewis Capaldi ', 'Post Malone ',\n",
       "       'Tones And I ', 'Drake ', 'The Kid LAROI ', 'Imagine Dragons ',\n",
       "       'Harry Styles ', 'Glass Animals ', 'The Chainsmokers ',\n",
       "       'Shawn Mendes ', 'James Arthur ', 'Billie Eilish ',\n",
       "       'The Neighbourhood ', 'Dua Lipa ', 'Juice WRLD ', 'Queen ',\n",
       "       'Lady Gaga ', 'Hozier ', 'Justin Bieber ', 'John Legend ',\n",
       "       'XXXTENTACION ', 'Vance Joy ', 'Ariana Grande ', 'OneRepublic ',\n",
       "       'Travis Scott ', 'Twenty One Pilots ', 'Avicii ',\n",
       "       'Macklemore & Ryan Lewis ', 'Passenger ', 'Kendrick Lamar ',\n",
       "       'Lil Uzi Vert ', 'Calvin Harris ', 'Camila Cabello ',\n",
       "       'Olivia Rodrigo ', 'Marshmello ', 'Tom Odell ', 'DJ Snake ',\n",
       "       'Eminem ', 'J. Cole ', 'The Killers ', 'Sam Smith ', 'Lil Nas X ',\n",
       "       'Arctic Monkeys ', 'Major Lazer ', 'Halsey ', 'Coldplay ',\n",
       "       'SAINt JHN ', 'Bad Bunny ', 'Maroon 5 ', 'Mark Ronson ',\n",
       "       'Alan Walker ', 'Mike Posner ', 'French Montana ', 'Bruno Mars ',\n",
       "       'Oasis ', 'Nirvana ', '24kGoldn ', 'BTS ', 'Roddy Ricch ',\n",
       "       'Linkin Park ', 'Wiz Khalifa ', 'Elton John ', 'Adele ',\n",
       "       'Jason Mraz ', 'Lukas Graham ', 'Sia ', 'The Police ',\n",
       "       'Luis Fonsi ', 'Journey ', 'Charlie Puth ', 'Lauv ', 'Doja Cat ',\n",
       "       '5 Seconds of Summer ', \"Guns N' Roses \", 'Justin Timberlake ',\n",
       "       'Danny Ocean ', 'DaBaby ', 'benny blanco ', 'Dean Lewis ',\n",
       "       'Foster The People ', 'Cardi B ', 'a', 'TOTO ', 'ZAYN ', 'OMI ',\n",
       "       'Powfu ', 'Gotye ', 'Ava Max ', 'Michael Jackson ',\n",
       "       'Trevor Daniel ', 'Lord Huron ', 'J Balvin ', 'Taylor Swift ',\n",
       "       'Mariah Carey ', 'Panic! At The Disco ', 'Miley Cyrus ', 'DNCE ',\n",
       "       'WALK THE MOON ', 'Childish Gambino ', 'Future ', 'Bizarrap ',\n",
       "       'David Guetta ', 'Ellie Goulding ', 'Alec Benjamin ',\n",
       "       'Christina Perri ', 'KAROL G ', 'Coolio ', 'Arizona Zervas ',\n",
       "       'MÃ¥neskin ', 'Clean Bandit ', 'Zedd ', 'The White Stripes ',\n",
       "       'Eagles ', 'Khalid ', 'Anne', 'BeyoncÃ© ', 'Bastille ',\n",
       "       'Tame Impala ', 'Shakira ', 'White Noise Baby Sleep ', 'NF ',\n",
       "       'Earth, Wind & Fire ', 'Conan Gray ', 'Farruko ', 'Fleetwood Mac ',\n",
       "       'Don Omar ', 'The Goo Goo Dolls ', 'AC/DC ', 'Fifth Harmony ',\n",
       "       'Radiohead ', 'gnash ', 'Bon Jovi ', 'Kygo ', 'Champs United ',\n",
       "       'Martin Garrix ', 'Dynoro ', 'Manuel Turizo ', 'Jonas Brothers ',\n",
       "       'SZA ', 'Lil Baby ', 'Bebe Rexha ', 'Rihanna ', 'Train ',\n",
       "       'The Starlite Singers ', 'Offset ', 'MAGIC! ', 'Alessia Cara ',\n",
       "       'Tears For Fears ', 'Selena Gomez ', 'Snoop Dogg ', 'Logic ',\n",
       "       'Milky Chance ', 'Pitbull ', 'Tyga ', 'Daddy Yankee ',\n",
       "       'Zara Larsson ', 'Pharrell Williams ', '50 Cent ', 'Dr. Dre ',\n",
       "       'Kanye West ', 'JAY', 'Internet Money ', 'Regard ', 'Katy Perry ',\n",
       "       'Backstreet Boys ', 'Jessie J ', 'The Script ',\n",
       "       'Axwell /\\\\ Ingrosso ', 'Jhayco ', 'Tate McRae ', 'Lil Mosey ',\n",
       "       'DJ Khaled ', 'Creedence Clearwater Revival ', 'Rauw Alejandro ',\n",
       "       'Gorillaz ', 'G', 'Lil Tecca ', 'Red Hot Chili Peppers ',\n",
       "       'Kings of Leon ', 'One Direction ', 'blackbear ', 'Metallica ',\n",
       "       'Ruth B. ', 'Black Eyed Peas ', 'MKTO ', 'Wham! ',\n",
       "       'Portugal. The Man ', 'Maluma ', 'Masked Wolf ', 'Lynyrd Skynyrd ',\n",
       "       'Snow Patrol ', 'Joji ', 'Keane ', 'Carly Rae Jepsen ', 'R.E.M. ',\n",
       "       'Tyler, The Creator ', 'Outkast ', 'Desiigner ',\n",
       "       'Hailee Steinfeld ', 'Julia Michaels ', 'Gym Class Heroes ',\n",
       "       'Eurythmics ', 'Robin Schulz ', 'P!nk ', 'System Of A Down ',\n",
       "       'Nio Garcia ', 'Survivor ', 'Anuel AA ', 'James Bay ',\n",
       "       'Joel Corry ', 'Daniel Caesar ', 'Marvin Gaye ', 'Pedro CapÃ³ ',\n",
       "       'Demi Lovato ', 'Calum Scott ', 'Unknown ', 'Lorde ', 'Meek Mill ',\n",
       "       'The Beatles ', 'TiÃ«sto ', 'Capital Cities ', 'The Lumineers ',\n",
       "       'Bryson Tiller ', 'Fetty Wap ', '21 Savage ', 'USHER ', 'Topic ',\n",
       "       'Loud Luxury ', 'Jawsh 685 ', 'Jason Derulo ', 'The Fray ',\n",
       "       'Lil Wayne ', 'Kate Bush ', 'Jonas Blue ', 'Lana Del Rey ',\n",
       "       'ABBA ', 'A$AP Rocky ', 'Fall Out Boy ', 'Jack Ã\\x9c ',\n",
       "       'Rudimental ', 'Whitney Houston ', 'GAYLE ', 'Pop Smoke ',\n",
       "       'Britney Spears ', 'Dire Straits ', 'Lil Peep ', 'Bryan Adams ',\n",
       "       'Ali Gatie ', 'The Walters ', 'Duncan Laurence ', 'JP Saxe ',\n",
       "       'Lost Frequencies ', 'Kungs ', 'Kodaline ', 'Miguel ', 'Rema ',\n",
       "       'fun. ', 'Kesha ', 'The Cranberries ', 'Bazzi ', 'Chris Brown ',\n",
       "       'A Great Big World ', 'Sean Paul ', 'Papa Roach ', 'George Ezra ',\n",
       "       'Kodak Black ', 'Giveon ', 'LISA ', 'Flo Rida ',\n",
       "       'The Rolling Stones ', 'Steve Lacy ', \"Plain White T's \",\n",
       "       'Dan + Shay ', 'Meghan Trainor ', 'Lilly Wood and The Prick ',\n",
       "       'The Notorious B.I.G. ', 'Sheck Wes ', 'BÃ\\x98RNS ',\n",
       "       'Smash Mouth ', 'Nelly Furtado ', 'Daft Punk ', 'Liam Payne ',\n",
       "       'YNW Melly ', 'Mabel ', 'Aerosmith ', 'Kina ', 'WILLOW ', 'Lizzo ',\n",
       "       'Spice Girls ', 'BlocBoy JB ', 'Kali Uchis ', 'Metro Boomin ',\n",
       "       'Nicki Minaj ', 'M83 ', 'Cyndi Lauper ', 'MEDUZA ',\n",
       "       'Foo Fighters ', 'Y2K ', 'Ice Cube ', 'Taio Cruz ',\n",
       "       'Swedish House Mafia ', 'blink', 'Of Monsters and Men ',\n",
       "       'Mr. Probz ', 'Nicky Jam ', 'Gnarls Barkley ', 'Jaymes Young ',\n",
       "       'KYLE ', 'Elley DuhÃ© ', 'The Verve ', 'Rae Sremmurd ',\n",
       "       'The Clash ', 'Jay Wheeler ', 'Disclosure ', 'U2 ',\n",
       "       'Cigarettes After Sex ', 'Surfaces ', 'Green Day ', 'Evanescence ',\n",
       "       'Shaggy ', 'Migos ', 'The Drifters ', 'Ben E. King ', 'Zac Efron ',\n",
       "       'Lunay ', 'TLC ', 'Alicia Keys ', 'Riton ', 'Bee Gees ',\n",
       "       \"Rag'n'Bone Man \", 'R. City ', 'Maggie Lindemann ',\n",
       "       'Dominic Fike ', 'Dennis Lloyd ', 'Van Morrison ',\n",
       "       'Black Sabbath ', 'Led Zeppelin ', 'Frank Ocean ', 'Nico & Vinz ',\n",
       "       'American Authors ', 'Niall Horan ', 'Starley ', 'Surf Curse ',\n",
       "       'Electric Light Orchestra ', 'Hoobastank ', 'Gucci Mane ',\n",
       "       'Eslabon Armado ', 'BLACKPINK ', 'Surf Mesa ', 'Paulo Londra ',\n",
       "       'The Animals ', 'Zion & Lennox ', 'KALEO ',\n",
       "       'Daryl Hall & John Oates ', 'Beach House ', 'NATTI NATASHA ',\n",
       "       'Bob Marley & The Wailers ', 'Mario ', 'ROSALÃ\\x8dA ',\n",
       "       'Rachel Platten ', 'Galantis ', 'Mustard ', 'Ty Dolla $ign ',\n",
       "       'George Michael ', 'JVKE ', 'Nickelback ', 'Polo G ', 'DRAM ',\n",
       "       'Michael BublÃ© ', 'Macklemore ', 'A Boogie Wit da Hoodie ',\n",
       "       'Amy Winehouse ', 'KISS ', 'The Offspring ', 'Sam Hunt ',\n",
       "       'The Jackson 5 ', 'GROUPLOVE ', '3 Doors Down ', 'James Blunt ',\n",
       "       'Tainy ', 'Florence + The Machine ', 'Owl City ',\n",
       "       'Edward Sharpe & The Magnetic Zeros ', '4 Non Blondes ',\n",
       "       'My Chemical Romance ', 'Rage Against The Machine ',\n",
       "       'Robin Thicke ', 'The Temptations ', 'Rosa Linn ',\n",
       "       'Petit Biscuit ', 'Rob $tone ', 'Don Toliver ', 'Mike Perry ',\n",
       "       'Iyaz ', 'Aaron Smith ', 'Van Halen ', 'Brenda Lee ',\n",
       "       'Xmas Classics ', 'Noah Cyrus ', 'Pink Floyd ', 'Stephen Sanchez ',\n",
       "       'Kenny Loggins ', 'Chris Stapleton ', 'Tove Lo ', 'Leona Lewis ',\n",
       "       'Simple Minds ', 'AWOLNATION ', 'Enrique Iglesias ',\n",
       "       'Empire of the Sun ', 'girl in red ', 'Jimmy Eat World ', 'Akon ',\n",
       "       '6ix9ine ', 'Ozuna ', 'Billy Joel ', 'AURORA ', 'Jeremy Zucker ',\n",
       "       'CKay ', 'Becky G ', 'Wisin ', 'Birdy ', 'Keala Settle ', 'd4vd ',\n",
       "       'Bobby Helms ', 'Elvis Presley ', 'alt', 'Piso 21 ', 'Pixies ',\n",
       "       'Jack Harlow ', 'Nelly ', 'Deorro ', 'Martin Jensen ',\n",
       "       'Melanie Martinez ', 'Toploader ', 'Franz Ferdinand ', 'Blur ',\n",
       "       'Chord Overstreet ', 'THE SCOTTS ', 'Tracy Chapman ',\n",
       "       'Cage The Elephant ', 'Rick Astley ', 'Jack Johnson ', 'BANNERS ',\n",
       "       'CJ ', 'AminÃ© ', 'Icona Pop ', 'Kid Cudi ', \"Destiny's Child \",\n",
       "       'Neon Trees ', 'Big Sean ', 'Gesaffelstein ', 'LP ', 'Boston ',\n",
       "       'Sebastian Yatra ', 'Mau y Ricky ', 'Cris Mj ', 'The 1975 ',\n",
       "       'Playboi Carti ', 'Little Mix ', 'BENEE ', 'Ne', 'The Wanted ',\n",
       "       'Avril Lavigne ', 'MGMT ', 'Flume ', 'B.o.B ', 'Blackstreet ',\n",
       "       'ACRAZE ', 'Jon Bellion ', 'Nicky Youre ', 'Foreigner ', 'Alok ',\n",
       "       'X Ambassadors ', 'Aventura ', 'Disturbed ', 'CNCO ', 'Labrinth ',\n",
       "       'Young Thug ', 'Felix Jaehn ', 'Selena Gomez & The Scene ',\n",
       "       'Paramore ', 'A$AP Ferg ', 'Two Door Cinema Club ', 'Men At Work ',\n",
       "       'Yng Lvcas ', 'Wallows ', 'Luke Combs ', 'Alex & Sierra ',\n",
       "       'Mr.Kitty ', 'Lil Tjay ', 'Vanessa Carlton ', 'Iggy Azalea ',\n",
       "       'Hippie Sabotage ', 'Idina Menzel ', 'Morgan Wallen ', 'Dalex ',\n",
       "       'The Mamas & The Papas ', 'Bill Withers ', 'Reik ',\n",
       "       'Andy Williams ', 'Sech ', 'will.i.am ', 'Cheat Codes ',\n",
       "       'Sean Kingston ', 'Counting Crows ', '2Pac ', 'AJR ', 'Feid ',\n",
       "       'Katrina & The Waves ', 'Sub Urban ', 'Fort Minor ',\n",
       "       'StaySolidRocky ', 'Joel Adams ', 'M.I.A. ', 'The Proclaimers ',\n",
       "       'Sleepy Hallow ', 'Russ ', 'Sublime ', 'Myke Towers ',\n",
       "       'Soft Cell ', 'PinkPantheress ', 'Yandel ', 'DMX ', 'Rixton ',\n",
       "       'Estelle ', 'Machine Gun Kelly ', 'Alesso ', 'Weezer ',\n",
       "       'The Outfield ', 'John Mayer ', 'Don McLean ', 'Lil Dicky ',\n",
       "       'Jimi Hendrix ', 'Carlos Vives ', 'Bonnie Tyler ', 'JACKBOYS ',\n",
       "       'Lil Pump ', 'Three Days Grace ', 'Haddaway ', 'Timbaland ',\n",
       "       'Common ', 'The Vamps ', 'Mumford & Sons ', 'Jung Kook ',\n",
       "       'Romeo Santos ', 'SofÃ\\xada Reyes ', 'ATB ', 'dhruv ', 'FRENSHIP ',\n",
       "       'Kiiara ', 'Mora ', 'Neil Diamond ', 'Grupo Frontera ',\n",
       "       'Rich The Kid ', 'Scorpions ', 'Darius Rucker ', 'John Newman ',\n",
       "       'Kelly Clarkson ', 'Sixpence None The Richer ', 'LMFAO ', 'TINI ',\n",
       "       'Slipknot ', 'Paloma Faith ', 'The Cure ', 'Flipp Dinero ',\n",
       "       'Otis Redding ', 'Chris Jedi ', 'Phil Collins ', 'Seafret ',\n",
       "       'James TW ', 'Zac Brown Band ', 'Ashe ', 'Mac Miller ',\n",
       "       'Los Legendarios ', 'Tom Petty ', 'Rise Against ', 'No Doubt ',\n",
       "       'Kansas ', 'Rita Ora ', 'Rex Orange County ', 'FIFTY FIFTY ',\n",
       "       'Chief Keef ', 'Natalie Imbruglia ', 'Clairo ', 'Jay Sean ',\n",
       "       'Pinkfong ', 'Jeremih ', 'Far East Movement ', 'Anitta ',\n",
       "       'BoyWithUke ', 'Troye Sivan ', 'Pink Sweat$ ', 'zzoilo ',\n",
       "       'Blue Swede ', 'Baby Keem ', 'Bruce Springsteen ', 'Two Feet ',\n",
       "       'Corinne Bailey Rae ', 'Plan B ', 'grandson ', 'Jax Jones ',\n",
       "       'Patrick Watson ', 'Fugees ', 'Rascal Flatts ', 'R. Kelly ',\n",
       "       'Luis Miguel ', 'Silk City ', 'Snakehips ', 'Soundgarden ',\n",
       "       'Mac DeMarco ', 'Bon Iver ', 'Lil Xan ', 'ArcÃ¡ngel ',\n",
       "       'Sam Fischer ', 'Skillet ', 'Extreme ', 'America ',\n",
       "       'Ricky Martin ', 'RAYE ', 'Ozzy Osbourne ', 'The xx ',\n",
       "       'Waka Flocka Flame ', 'John Lennon ', 'R3HAB ', 'PARTYNEXTDOOR ',\n",
       "       'Stromae ', 'The Calling ', 'Thomas Rhett ', 'Travie McCoy ',\n",
       "       'The Game ', 'T', 'Lou Bega ', 'Redbone ', 'Gloria Gaynor ',\n",
       "       'Naughty Boy ', 'Years & Years ', 'Frank Sinatra ', 'Camilo ',\n",
       "       'Culture Club ', 'Sam Feldt ', 'Johnny Cash ', 'Gente De Zona ',\n",
       "       'Ritt Momney ', '$uicideboy$ ', 'Louis Tomlinson ', 'Burak Yeter ',\n",
       "       'Boza ', 'JP Cooper ', 'Audioslave ', 'Jay Rock ',\n",
       "       'Stevie Wonder ', 'Tropical Florida ', 'Chino & Nacho ',\n",
       "       'Cascada ', 'Soulja Boy ', 'Gera MX ', 'Eiffel 65 ', 'Famous Dex ',\n",
       "       'Bring Me The Horizon ', 'ScHoolboy Q ', 'Muse ', 'Duke Dumont ',\n",
       "       'King Princess ', 'Fitz and The Tantrums ', 'UB40 ',\n",
       "       'Natasha Bedingfield ', 'Paul Simon ', 'Marc Anthony ',\n",
       "       'Los Enanitos Verdes ', 'Stealers Wheel ', 'Gwen Stefani ',\n",
       "       'Yusuf / Cat Stevens ', 'Dexys Midnight Runners ', 'THE ANXIETY ',\n",
       "       'Colbie Caillat ', 'Tom Walker ', 'The Kooks ', 'Eyedress ',\n",
       "       'Dolly Parton ', 'MÃ¶tley CrÃ¼e ', \"Auli'i Cravalho \", 'Mitski ',\n",
       "       'MÃ\\x98 ', 'Jet ', 'Beach Weather ', 'Alejandro FernÃ¡ndez ',\n",
       "       'David Kushner ', 'Depeche Mode ', 'JENNIE ', 'The Strokes ',\n",
       "       'Christian Nodal ', 'Natalia Lafourcade ', 'Echosmith ',\n",
       "       'Daniel Powter ', 'Bacilos ', 'Loren Allred ', 'AronChupa ',\n",
       "       'The Cinematic Orchestra ', 'Chase Atlantic ', 'Oliver Tree ',\n",
       "       'Ski Mask The Slump God ', 'Marc SeguÃ\\xad ', 'Europe ',\n",
       "       'Aretha Franklin ', 'The Who ', 'The All', 'Central Cee ',\n",
       "       'Nick Jonas ', 'Lil Skies ', 'JosÃ© Feliciano ', 'Dove Cameron ',\n",
       "       'DJ Luian ', 'The Temper Trap ', 'John Denver ', 'TV Girl ',\n",
       "       'Daya ', 'Majestic ', 'Rick Springfield ', 'Sheppard ',\n",
       "       'Yot Club ', 'Dayglow ', 'Saweetie ', 'ZZ Top ',\n",
       "       'Breaking Benjamin ', 'League of Legends ', 'Cher ', 'Commodores ',\n",
       "       'Morat ', 'Manu Chao ', 'Kehlani ', 'Hugh Jackman ', 'Jimin ',\n",
       "       'Natanael Cano ', 'Zach Bryan ', 'Simon & Garfunkel ',\n",
       "       'Trippie Redd ', 'The Smashing Pumpkins ', 'John Travolta ',\n",
       "       'The Pussycat Dolls ', 'Fergie ', 'Wheatus ', 'Steve Aoki ',\n",
       "       'Roxette ', 'Summer Walker ', 'Brett Young ', 'PUBLIC ',\n",
       "       'YOASOBI ', 'Buffalo Springfield ', 'Rupert Holmes ', 'Hombres G ',\n",
       "       'Incubus ', 'Lifehouse ', 'Ziv Zaifman ', 'Astrid S ',\n",
       "       'Avenged Sevenfold ', 'Shania Twain ', 'Carrie Underwood ',\n",
       "       'Eagle', 'Ed Maverick ', 'Wolfine ', 'James Hype ', 'Kordhell ',\n",
       "       'T.I. ', 'SHAED ', 'Lykke Li ', 'NLE Choppa ',\n",
       "       'Blue Ã\\x96yster Cult ', 'Diddy ', 'Chris Isaak ', 'Luke Bryan ',\n",
       "       'Dwayne Johnson ', 'Bishop Briggs ', 'Pearl Jam ',\n",
       "       'Thirty Seconds To Mars ', 'Chance the Rapper ', 'Peso Pluma ',\n",
       "       'NewJeans ', 'Louis Armstrong ', 'Cutting Crew ', 'Lauren Daigle ',\n",
       "       'Band Aid ', 'Pia Mia ', 'The Doobie Brothers ', 'Starship ',\n",
       "       '*NSYNC ', 'CÃ©line Dion ', 'Limp Bizkit ', 'BROCKHAMPTON ',\n",
       "       'Steppenwolf ', 'The Paper Kites ', 'Sasha Alex Sloan ',\n",
       "       'The Beach Boys ', 'Ramz ', 'Don Henley ', 'Rammstein ',\n",
       "       'Crowded House ', 'Timmy Trumpet ', 'Ricky Montgomery ',\n",
       "       'All Time Low ', 'Christmas Hits ', 'Deep Purple ', 'New West ',\n",
       "       'Rels B ', 'Jarabe De Palo ', 'Armin van Buuren ', 'Tory Lanez ',\n",
       "       'FISHER ', 'Calboy ', 'Al Green ', 'Kane Brown ',\n",
       "       'La Oreja de Van Gogh ', 'The Cardigans ', 'Alexander 23 ',\n",
       "       'Super Yei ', 'GoldLink ', 'IAmChino ', 'Alexandra Stan ',\n",
       "       'Michael Sembello ', '2 Chainz ', 'Ayo & Teo ', 'HVME ', 'Dave ',\n",
       "       'MARINA ', 'Ashnikko ', 'Nate Dogg ', 'Warren G ', 'Nacho ',\n",
       "       'Hotel Ugly ', 'George Harrison ', 'Andy Grammer ', 't.A.T.u. ',\n",
       "       'Ciara ', 'House Of Pain ', 'Dusty Springfield ', 'Cosculluela ',\n",
       "       'Carlos Baute ', 'Elle King ', 'Vacations ', 'Roar ',\n",
       "       'JosÃ© GonzÃ¡lez ', 'SYML ', 'Bobby Shmurda ', 'Yiruma ',\n",
       "       'Ginuwine ', 'The Smiths ', 'Mura Masa ', 'Quality Control ',\n",
       "       'Robbie Williams ', 'Jennifer Lopez ', 'Rvssian ', 'Dean Martin ',\n",
       "       'Ella Mai ', 'Norman Greenbaum ', 'Matt Simons ', 'Social House ',\n",
       "       'Lil Jon & The East Side Boyz ', 'The Pointer Sisters ',\n",
       "       'Roy Orbison ', 'The Rare Occasions ', 'Sam Cooke ', 'Roy Woods ',\n",
       "       'The Black Keys ', 'Skrillex ', 'Runâ\\x80\\x93D.M.C. ',\n",
       "       'Mobb Deep ', 'Carolina GaitÃ¡n ', 'The Righteous Brothers ',\n",
       "       'David Bowie ', 'Omarion ', 'Gabry Ponte ', 'Jesse & Joy ',\n",
       "       'Spin Doctors ', 'Third Eye Blind ', 'Libianca ', 'Diplo ',\n",
       "       'Ingratax ', 'Sum 41 ', 'The Human League ', 'Junior H ',\n",
       "       'Fujii Kaze ', 'Norah Jones ', 'NEIKED ', 'Maren Morris ',\n",
       "       'SAYGRACE ', 'Benson Boone ', 'Kid Rock ', 'Vegedream ', '6LACK ',\n",
       "       'Soda Stereo ', 'Chris Rea ', 'Luniz ', 'Jordin Sparks ',\n",
       "       \"Olivia O'Brien \", 'Savage Garden ', 'Steve Miller Band ',\n",
       "       'Jess Glynne ', 'Duki ', 'Tego CalderÃ³n ', 'Eric Clapton ',\n",
       "       'Baby Bash ', 'Declan McKenna ', 'Sufjan Stevens ', 'JubÃ«l ',\n",
       "       'Quevedo ', 'Aqua ', 'Grover Washington, Jr. ', 'Trey Songz ',\n",
       "       'Eric Carmen ', 'INTERWORLD ', 'Calibre 50 ', 'Ghost ', 'Cochise ',\n",
       "       'The Living Tombstone ', 'Chuck Berry ', 'Four Tops ',\n",
       "       'Etta James ', 'Yann Tiersen ', 'Drowning Pool ', 'Coyote Theory ',\n",
       "       'The Red Jumpsuit Apparatus ', 'TWICE ', 'Talking Heads ',\n",
       "       'Blind Melon ', 'Peter Bjorn and John ',\n",
       "       'Frankie Valli & The Four Seasons ', 'Prince ', 'Hillsong UNITED ',\n",
       "       'Belinda Carlisle ', 'Aya Nakamura ', 'PSY ', 'Mon Laferte ',\n",
       "       'flora cash ', 'Alien Ant Farm ', 'Mother Mother ',\n",
       "       'Jason Aldean ', 'Rich Music LTD ', 'Bella Poarch ',\n",
       "       'Tina Turner ', 'Alex Rose ', 'Shouse ', 'Red Velvet ',\n",
       "       'Rusted Root ', 'Lou Reed ', 'Haley Reinhart ', 'Lele Pons ',\n",
       "       'Sara Bareilles ', 'Florida Georgia Line ', 'Sabrina Carpenter ',\n",
       "       'Tiago PZK ', 'Fuerza Regida ', 'Young Money ',\n",
       "       'Megan Thee Stallion ', 'Fountains Of Wayne ', 'The Supremes ',\n",
       "       'Imanbek ', 'Pablo AlborÃ¡n ', 'The Turtles ', 'Carly Simon ',\n",
       "       'Los Ã\\x81ngeles Azules ', 'Fools Garden ', 'DVRST ',\n",
       "       'The Strumbellas ', 'Beach Bunny ', 'Vampire Weekend ',\n",
       "       'The Ronettes ', 'Kylie Minogue ', 'Ryan Castro ', 'Nathan Evans ',\n",
       "       'Paul McCartney ', 'Bill Medley ', 'FINNEAS ', 'Ronan Keating ',\n",
       "       'Blessd ', 'Korn ', 'Kent Jones ', 'Brent Faiyaz ', 'MotÃ¶rhead ',\n",
       "       'Andra Day ', 'LeÃ³n Larregui ', 'Alejandro Sanz ', 'Cults ',\n",
       "       'Richard Marx ', 'Bing Crosby '], dtype=object)"
      ]
     },
     "execution_count": 90,
     "metadata": {},
     "output_type": "execute_result"
    }
   ],
   "source": [
    "df['Artist'].unique()"
   ]
  },
  {
   "cell_type": "code",
   "execution_count": 91,
   "id": "369ac21d-5b02-4a4f-9589-f27180c8f82f",
   "metadata": {},
   "outputs": [
    {
     "data": {
      "text/plain": [
       "Artist\n",
       "Taylor Swift       38\n",
       "Bad Bunny          37\n",
       "Drake              36\n",
       "Billie Eilish      27\n",
       "The Weeknd         25\n",
       "                   ..\n",
       "Shouse              1\n",
       "Red Velvet          1\n",
       "Rusted Root         1\n",
       "Lou Reed            1\n",
       "Haley Reinhart      1\n",
       "Name: count, Length: 985, dtype: int64"
      ]
     },
     "execution_count": 91,
     "metadata": {},
     "output_type": "execute_result"
    }
   ],
   "source": [
    "df['Artist'].value_counts()"
   ]
  },
  {
   "cell_type": "code",
   "execution_count": null,
   "id": "bad393a1-a1ae-4403-935b-e70518e5a065",
   "metadata": {},
   "outputs": [],
   "source": [
    "sns."
   ]
  },
  {
   "cell_type": "code",
   "execution_count": null,
   "id": "12e02e95-2768-470d-941c-90452ba46154",
   "metadata": {},
   "outputs": [],
   "source": []
  },
  {
   "cell_type": "code",
   "execution_count": null,
   "id": "f1156fc5-6059-4d01-a63b-a2100561207d",
   "metadata": {},
   "outputs": [],
   "source": []
  },
  {
   "cell_type": "code",
   "execution_count": null,
   "id": "4e71b77c-fa0c-4feb-b0e3-51ecef0b5fe1",
   "metadata": {},
   "outputs": [],
   "source": []
  },
  {
   "cell_type": "code",
   "execution_count": null,
   "id": "810a021a-3161-4147-b85e-ffe7824f1cea",
   "metadata": {},
   "outputs": [],
   "source": []
  }
 ],
 "metadata": {
  "kernelspec": {
   "display_name": "Python 3 (ipykernel)",
   "language": "python",
   "name": "python3"
  },
  "language_info": {
   "codemirror_mode": {
    "name": "ipython",
    "version": 3
   },
   "file_extension": ".py",
   "mimetype": "text/x-python",
   "name": "python",
   "nbconvert_exporter": "python",
   "pygments_lexer": "ipython3",
   "version": "3.12.4"
  }
 },
 "nbformat": 4,
 "nbformat_minor": 5
}
