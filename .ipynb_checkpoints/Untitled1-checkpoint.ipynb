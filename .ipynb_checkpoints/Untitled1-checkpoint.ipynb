{
 "cells": [
  {
   "cell_type": "code",
   "execution_count": 5,
   "id": "73ca6a1b-51a7-49c0-9cfe-68f30c0a5856",
   "metadata": {},
   "outputs": [],
   "source": [
    "s = 'hello'"
   ]
  },
  {
   "cell_type": "code",
   "execution_count": 6,
   "id": "21003493-2901-4f6a-9d0b-b6027f12dcb1",
   "metadata": {},
   "outputs": [
    {
     "data": {
      "text/plain": [
       "2"
      ]
     },
     "execution_count": 6,
     "metadata": {},
     "output_type": "execute_result"
    }
   ],
   "source": [
    "1 + 1"
   ]
  },
  {
   "cell_type": "code",
   "execution_count": 7,
   "id": "57c1eef6-e51f-4e12-8a88-0d17abcd3ecd",
   "metadata": {},
   "outputs": [
    {
     "data": {
      "text/plain": [
       "'h'"
      ]
     },
     "execution_count": 7,
     "metadata": {},
     "output_type": "execute_result"
    }
   ],
   "source": [
    "s[0]\n"
   ]
  },
  {
   "cell_type": "code",
   "execution_count": 9,
   "id": "af566baa-1818-4582-bf6e-0c704b8a8acf",
   "metadata": {},
   "outputs": [
    {
     "data": {
      "text/plain": [
       "'hel'"
      ]
     },
     "execution_count": 9,
     "metadata": {},
     "output_type": "execute_result"
    }
   ],
   "source": [
    "s[0:3]"
   ]
  },
  {
   "cell_type": "code",
   "execution_count": 10,
   "id": "6f836487-98a6-4153-82dd-11ff64d7c0fc",
   "metadata": {},
   "outputs": [],
   "source": [
    "v = 'abcdefghijk'"
   ]
  },
  {
   "cell_type": "code",
   "execution_count": 11,
   "id": "805cf431-9295-41da-917b-34c2ca292ba6",
   "metadata": {},
   "outputs": [
    {
     "data": {
      "text/plain": [
       "'abcdefghijk'"
      ]
     },
     "execution_count": 11,
     "metadata": {},
     "output_type": "execute_result"
    }
   ],
   "source": [
    "v[0:]"
   ]
  },
  {
   "cell_type": "code",
   "execution_count": 12,
   "id": "95267b03-f187-4f2c-806c-c07fb1d3f1d8",
   "metadata": {},
   "outputs": [
    {
     "data": {
      "text/plain": [
       "'efghijk'"
      ]
     },
     "execution_count": 12,
     "metadata": {},
     "output_type": "execute_result"
    }
   ],
   "source": [
    "v[4:]"
   ]
  },
  {
   "cell_type": "code",
   "execution_count": 13,
   "id": "5ff94c36-8000-44bb-9015-2009e531f8a5",
   "metadata": {},
   "outputs": [
    {
     "data": {
      "text/plain": [
       "[1, 2, 3, 4]"
      ]
     },
     "execution_count": 13,
     "metadata": {},
     "output_type": "execute_result"
    }
   ],
   "source": [
    "[1,2,3,4]"
   ]
  },
  {
   "cell_type": "code",
   "execution_count": 14,
   "id": "1aefa694-f356-42c4-98ee-c5a17af47514",
   "metadata": {},
   "outputs": [],
   "source": [
    "my_list = ['a', 'b', 'c']"
   ]
  },
  {
   "cell_type": "code",
   "execution_count": 15,
   "id": "add54fbc-b949-4744-bae3-4d768b676569",
   "metadata": {},
   "outputs": [],
   "source": [
    "my_list.append('d')"
   ]
  },
  {
   "cell_type": "code",
   "execution_count": 16,
   "id": "a0b84513-dc2a-46a6-81c2-ac74de8f5794",
   "metadata": {},
   "outputs": [
    {
     "data": {
      "text/plain": [
       "['a', 'b', 'c', 'd']"
      ]
     },
     "execution_count": 16,
     "metadata": {},
     "output_type": "execute_result"
    }
   ],
   "source": [
    "my_list"
   ]
  },
  {
   "cell_type": "code",
   "execution_count": 17,
   "id": "1a574795-1bc6-4180-80da-37693ab2cbf1",
   "metadata": {},
   "outputs": [],
   "source": [
    "my_list[0] = 'new'"
   ]
  },
  {
   "cell_type": "code",
   "execution_count": 18,
   "id": "c3acd914-d5fb-4e85-bd81-12ff24a79ef3",
   "metadata": {},
   "outputs": [
    {
     "data": {
      "text/plain": [
       "['new', 'b', 'c', 'd']"
      ]
     },
     "execution_count": 18,
     "metadata": {},
     "output_type": "execute_result"
    }
   ],
   "source": [
    "my_list"
   ]
  },
  {
   "cell_type": "code",
   "execution_count": 19,
   "id": "bdc25f5c-2429-4d00-8ca3-1f62ee8d742d",
   "metadata": {},
   "outputs": [],
   "source": [
    "my_listtwo = [1, 2, [3, 4]]"
   ]
  },
  {
   "cell_type": "code",
   "execution_count": 21,
   "id": "0f9a9302-89b9-4f21-a486-56e972786f4d",
   "metadata": {},
   "outputs": [],
   "source": [
    "my_listtwo.append(5)"
   ]
  },
  {
   "cell_type": "code",
   "execution_count": 22,
   "id": "149c87c2-95e5-43ea-9904-996cd19d71b4",
   "metadata": {},
   "outputs": [
    {
     "data": {
      "text/plain": [
       "[1, 2, [3, 4], 5]"
      ]
     },
     "execution_count": 22,
     "metadata": {},
     "output_type": "execute_result"
    }
   ],
   "source": [
    "my_listtwo"
   ]
  },
  {
   "cell_type": "markdown",
   "id": "396ed915-248d-47f8-9a7e-6cd8a98ab6a3",
   "metadata": {},
   "source": [
    "#Dictionary"
   ]
  },
  {
   "cell_type": "code",
   "execution_count": 1,
   "id": "e06cd147-25a3-4988-b8e9-4c40339bab82",
   "metadata": {},
   "outputs": [],
   "source": [
    "d = {'key1' : 'value' , 'key2': 'value2'}"
   ]
  },
  {
   "cell_type": "code",
   "execution_count": 2,
   "id": "5fbd2b94-6201-471e-9649-c015afab0199",
   "metadata": {},
   "outputs": [
    {
     "data": {
      "text/plain": [
       "'value'"
      ]
     },
     "execution_count": 2,
     "metadata": {},
     "output_type": "execute_result"
    }
   ],
   "source": [
    "d['key1']"
   ]
  },
  {
   "cell_type": "markdown",
   "id": "89b2bccd-128c-4509-9fe5-59666f03f23c",
   "metadata": {},
   "source": [
    " #tuple"
   ]
  },
  {
   "cell_type": "code",
   "execution_count": 3,
   "id": "3949c76a-6f59-4812-803d-6815394449d8",
   "metadata": {},
   "outputs": [],
   "source": [
    "t = (1, 2, 3)"
   ]
  },
  {
   "cell_type": "markdown",
   "id": "1f73d698-d569-4bfa-96c0-f76d09365c26",
   "metadata": {},
   "source": [
    "#SET"
   ]
  },
  {
   "cell_type": "markdown",
   "id": "8ffa4839-02d9-4491-ac44-3b5c65d3074d",
   "metadata": {},
   "source": [
    "{1,2,3}"
   ]
  },
  {
   "cell_type": "code",
   "execution_count": 5,
   "id": "6d404488-6bcf-4b25-8935-0d0f0d550158",
   "metadata": {},
   "outputs": [
    {
     "data": {
      "text/plain": [
       "{1, 2, 3, 4}"
      ]
     },
     "execution_count": 5,
     "metadata": {},
     "output_type": "execute_result"
    }
   ],
   "source": [
    "{1,2,2,2,2,3,3,3,3,4}"
   ]
  },
  {
   "cell_type": "code",
   "execution_count": 10,
   "id": "cce9a361-c7d5-4c63-8cdd-f4e7936f031c",
   "metadata": {},
   "outputs": [
    {
     "data": {
      "text/plain": [
       "{1, 2, 3}"
      ]
     },
     "execution_count": 10,
     "metadata": {},
     "output_type": "execute_result"
    }
   ],
   "source": [
    "set([1,1,1,2,2,2,3,3,3])"
   ]
  },
  {
   "cell_type": "code",
   "execution_count": 14,
   "id": "d6f457bf-35a2-465a-8c10-d44c89e7e03a",
   "metadata": {},
   "outputs": [],
   "source": [
    "x = set([1,1,1,2,2,2,3,3,3]).add(5)"
   ]
  },
  {
   "cell_type": "code",
   "execution_count": 15,
   "id": "0df51275-65e4-4cd4-a59b-e22274301c7c",
   "metadata": {},
   "outputs": [],
   "source": [
    "x"
   ]
  },
  {
   "cell_type": "code",
   "execution_count": 1,
   "id": "4063ecc5-42f1-4d09-90a5-f7bbd0835ece",
   "metadata": {},
   "outputs": [],
   "source": [
    "d = {'k1' : [2,3,4,5,6,7,8], 'k2' : 'nothing' }"
   ]
  },
  {
   "cell_type": "code",
   "execution_count": 4,
   "id": "954eceba-29f3-478f-8ea0-cd00c2f208d7",
   "metadata": {},
   "outputs": [
    {
     "data": {
      "text/plain": [
       "4"
      ]
     },
     "execution_count": 4,
     "metadata": {},
     "output_type": "execute_result"
    }
   ],
   "source": [
    "d['k1'][2]"
   ]
  },
  {
   "cell_type": "code",
   "execution_count": 1,
   "id": "2fac88e0-c7e4-4cd1-b203-44017e77072c",
   "metadata": {},
   "outputs": [
    {
     "name": "stdin",
     "output_type": "stream",
     "text": [
      "Enter something:  2\n",
      "Enter something again:  2\n"
     ]
    },
    {
     "name": "stdout",
     "output_type": "stream",
     "text": [
      "The sum is 4\n"
     ]
    }
   ],
   "source": [
    "entry = int(input(\"Enter something: \"))\n",
    "entry2 = int(input(\"Enter something again: \"))\n",
    "\n",
    "print(\"The sum is\", entry + entry2)"
   ]
  },
  {
   "cell_type": "code",
   "execution_count": null,
   "id": "5a00c2f5-e5f3-47f8-862f-95ff61787e24",
   "metadata": {},
   "outputs": [],
   "source": []
  }
 ],
 "metadata": {
  "kernelspec": {
   "display_name": "Python 3 (ipykernel)",
   "language": "python",
   "name": "python3"
  },
  "language_info": {
   "codemirror_mode": {
    "name": "ipython",
    "version": 3
   },
   "file_extension": ".py",
   "mimetype": "text/x-python",
   "name": "python",
   "nbconvert_exporter": "python",
   "pygments_lexer": "ipython3",
   "version": "3.12.4"
  }
 },
 "nbformat": 4,
 "nbformat_minor": 5
}
