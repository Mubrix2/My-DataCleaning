{
 "cells": [
  {
   "cell_type": "code",
   "execution_count": 1,
   "id": "f4dd328c-f6d1-4c0e-be75-cea77027cb48",
   "metadata": {},
   "outputs": [
    {
     "name": "stdout",
     "output_type": "stream",
     "text": [
      "<class 'float'>\n"
     ]
    }
   ],
   "source": [
    "x = 2.2\n",
    "print(type(x))"
   ]
  },
  {
   "cell_type": "code",
   "execution_count": 2,
   "id": "d4c2eed0-0c00-4015-8b10-e624a2f40edc",
   "metadata": {},
   "outputs": [],
   "source": [
    "# object - value(s) to be printed\n",
    "# sep (optional) - allows us to separate multiple objects inside print().\n",
    "# end (optional) - allows us to add add specific values like new line \"\\n\", tab \"\\t\"\n",
    "# file (optional) - where the values are printed. It's default value is sys.stdout (screen)\n",
    "# flush (optional) - boolean specifying if the output is flushed or buffered. Default: False"
   ]
  },
  {
   "cell_type": "code",
   "execution_count": 3,
   "id": "120c5b8c-334c-4a4d-a283-cfd1b00205dc",
   "metadata": {},
   "outputs": [
    {
     "name": "stdout",
     "output_type": "stream",
     "text": [
      "The value of x is 5 and y is 10\n"
     ]
    }
   ],
   "source": [
    "x = 5\n",
    "y = 10\n",
    "\n",
    "print('The value of x is {} and y is {}'.format(x,y))"
   ]
  },
  {
   "cell_type": "code",
   "execution_count": 4,
   "id": "b8a6d293-5607-4bd9-9986-5d5649c1627e",
   "metadata": {},
   "outputs": [
    {
     "name": "stdout",
     "output_type": "stream",
     "text": [
      "False\n"
     ]
    }
   ],
   "source": [
    "print(not True)"
   ]
  },
  {
   "cell_type": "code",
   "execution_count": 10,
   "id": "2bef86f5-51a3-46e3-bc16-9ed9d7abe725",
   "metadata": {},
   "outputs": [
    {
     "name": "stdout",
     "output_type": "stream",
     "text": [
      "False\n",
      "True\n"
     ]
    }
   ],
   "source": [
    "#Identity operator\n",
    "z = 16\n",
    "y = 20\n",
    "\n",
    "print(z is y)\n",
    "print(z is not y)"
   ]
  },
  {
   "cell_type": "code",
   "execution_count": 11,
   "id": "a59a4750-4050-489d-9d1d-c347366fc581",
   "metadata": {},
   "outputs": [
    {
     "name": "stdout",
     "output_type": "stream",
     "text": [
      "True\n"
     ]
    }
   ],
   "source": [
    "#Membership Operator\n",
    "message = 'Hello world'\n",
    "\n",
    "# check if 'H' is present in message string\n",
    "print('H' in message)  # prints True"
   ]
  },
  {
   "cell_type": "code",
   "execution_count": 15,
   "id": "9fa3f1be-4bfd-49b8-a11a-201d425a06fa",
   "metadata": {},
   "outputs": [
    {
     "name": "stdin",
     "output_type": "stream",
     "text": [
      "Enter a score:  90\n"
     ]
    },
    {
     "name": "stdout",
     "output_type": "stream",
     "text": [
      "Wow! Your grade is A\n"
     ]
    }
   ],
   "source": [
    "num = int(input(\"Enter a score: \"))\n",
    "\n",
    "if num >= 70: \n",
    "    print(\"Wow! Your grade is A\")\n",
    "elif num in range(60,69):\n",
    "    print(\"Very good! Your grade is B\")\n",
    "elif num in range(50,59):\n",
    "    print(\"Good! Your grade is C\")\n",
    "elif num in range(40,49):\n",
    "    print(\"Fair! Your grade is D\")\n",
    "else:\n",
    "    print(\"Oh! You have to try again\")"
   ]
  },
  {
   "cell_type": "code",
   "execution_count": 17,
   "id": "aba48873-7eb3-4abc-8301-4920c026b586",
   "metadata": {},
   "outputs": [
    {
     "name": "stdin",
     "output_type": "stream",
     "text": [
      "Enter a number:  2\n"
     ]
    },
    {
     "name": "stdout",
     "output_type": "stream",
     "text": [
      "2 is a positive number\n"
     ]
    }
   ],
   "source": [
    "number = int(input(\"Enter a number: \"))\n",
    "\n",
    "if number > 0:\n",
    "    print(f\"{number} is a positive number\")\n",
    "else:\n",
    "    print(\"This is a negative number\")"
   ]
  },
  {
   "cell_type": "code",
   "execution_count": 33,
   "id": "4f4c65d3-9bb9-44b1-ad2f-44cc544e0255",
   "metadata": {},
   "outputs": [
    {
     "name": "stdin",
     "output_type": "stream",
     "text": [
      "Enter a score:  6\n"
     ]
    }
   ],
   "source": [
    "Num = int(input(\"Enter a score: \"))\n",
    "\n",
    "if Num >= 0: \n",
    "    if Num == 0:\n",
    "        print(\"The number is zero\")\n",
    "    if Num in range(1,6):\n",
    "        print(\"It is a valid score\")\n",
    "else:\n",
    "    Num = int(input(\"Enter a score: \"))"
   ]
  },
  {
   "cell_type": "code",
   "execution_count": 34,
   "id": "d53cfd59-162c-40c5-b7ca-2f5aa10d7397",
   "metadata": {},
   "outputs": [
    {
     "name": "stdout",
     "output_type": "stream",
     "text": [
      "Number is positive\n"
     ]
    }
   ],
   "source": [
    "number = 5\n",
    "\n",
    "# outer if statement\n",
    "if number >= 0:\n",
    "    # inner if statement\n",
    "    if number == 0:\n",
    "      print('Number is 0')\n",
    "    \n",
    "    # inner else statement\n",
    "    else:\n",
    "        print('Number is positive')\n",
    "\n",
    "# outer else statement\n",
    "else:\n",
    "    print('Number is negative')"
   ]
  },
  {
   "cell_type": "code",
   "execution_count": 35,
   "id": "9429bd36-7c15-4cc5-9e86-5d8c9c399f66",
   "metadata": {},
   "outputs": [
    {
     "name": "stdout",
     "output_type": "stream",
     "text": [
      "This is it\n"
     ]
    }
   ],
   "source": [
    "x = 2\n",
    "if x < 5: print(\"This is it\")"
   ]
  },
  {
   "cell_type": "code",
   "execution_count": 36,
   "id": "9c9d0329-b58b-41af-9d7c-73a9fa2dd35e",
   "metadata": {},
   "outputs": [
    {
     "name": "stdout",
     "output_type": "stream",
     "text": [
      "fail\n"
     ]
    }
   ],
   "source": [
    "grade = 40\n",
    "\n",
    "if grade >= 50:\n",
    "    result = 'pass'\n",
    "else:\n",
    "    result = 'fail'\n",
    "\n",
    "print(result)"
   ]
  },
  {
   "cell_type": "code",
   "execution_count": 44,
   "id": "ed59d262-3d5f-4c12-add2-d781730991ce",
   "metadata": {},
   "outputs": [
    {
     "name": "stdout",
     "output_type": "stream",
     "text": [
      "0 2 4 6 8 10 12 14 16 18 20 22 24 26 28 30 "
     ]
    }
   ],
   "source": [
    "i = 0\n",
    "while i <= 30:\n",
    "    print(i, end=\" \")\n",
    "    i += 2"
   ]
  },
  {
   "cell_type": "code",
   "execution_count": 51,
   "id": "29d3a277-1667-4b4d-96cd-3c46e61e5820",
   "metadata": {},
   "outputs": [],
   "source": [
    "def pass_fail(score):\n",
    "    pass_mark = 50\n",
    "    score = int(input(\"Enter the score: \"))\n",
    "\n",
    "    if score > pass_mark:\n",
    "        print(\"Passed\")\n",
    "    else:\n",
    "        print(\"Failed\")"
   ]
  },
  {
   "cell_type": "code",
   "execution_count": 55,
   "id": "bf4e5651-368b-47b8-bff1-af9c09bae7f4",
   "metadata": {},
   "outputs": [
    {
     "name": "stdin",
     "output_type": "stream",
     "text": [
      "Enter the score:  49\n"
     ]
    },
    {
     "name": "stdout",
     "output_type": "stream",
     "text": [
      "Failed\n"
     ]
    }
   ],
   "source": [
    "pass_fail(49)"
   ]
  },
  {
   "cell_type": "code",
   "execution_count": 62,
   "id": "c93aac60-ba8e-4d4f-8c92-8ff5707e1207",
   "metadata": {},
   "outputs": [
    {
     "name": "stdout",
     "output_type": "stream",
     "text": [
      "0 2 4 6 8 10 12 14 16 18 20 22 24 26 28 30 "
     ]
    }
   ],
   "source": [
    "seq = range(0,31,2)\n",
    "for i in seq:\n",
    "    print(i, end=\" \")"
   ]
  },
  {
   "cell_type": "code",
   "execution_count": 70,
   "id": "b94a2c66-3161-4ad5-b20a-a79d505ba7a5",
   "metadata": {},
   "outputs": [
    {
     "name": "stdout",
     "output_type": "stream",
     "text": [
      "JavaScript\n",
      "Java\n",
      "Python\n"
     ]
    }
   ],
   "source": [
    "languages = ['JavaScript', 'Java', 'Python', 'C']\n",
    "for i in languages:\n",
    "    if i == 'C':\n",
    "        break\n",
    "    print(i)"
   ]
  },
  {
   "cell_type": "code",
   "execution_count": 71,
   "id": "eb81a584-2abc-49a7-a424-b064d4e62f92",
   "metadata": {},
   "outputs": [
    {
     "name": "stdout",
     "output_type": "stream",
     "text": [
      "JavaScript\n",
      "Java\n",
      "Python\n",
      "C++\n",
      "C#\n"
     ]
    }
   ],
   "source": [
    "languages = ['JavaScript', 'Java', 'Python', 'C', 'C++', 'C#']\n",
    "for i in languages:\n",
    "    if i == 'C':\n",
    "        continue\n",
    "    print(i)"
   ]
  },
  {
   "cell_type": "code",
   "execution_count": 72,
   "id": "466c6c56-4bb3-48c2-a954-4bbbc4505e46",
   "metadata": {},
   "outputs": [
    {
     "name": "stdout",
     "output_type": "stream",
     "text": [
      "Electric Tesla\n",
      "Electric Porsche\n",
      "Electric Mercedes\n",
      "-----\n",
      "Fast Tesla\n",
      "Fast Porsche\n",
      "Fast Mercedes\n",
      "-----\n"
     ]
    }
   ],
   "source": [
    "# outer loop \n",
    "attributes = ['Electric', 'Fast']\n",
    "cars = ['Tesla', 'Porsche', 'Mercedes']\n",
    "\n",
    "for attribute in attributes:\n",
    "    for car in cars:\n",
    "        print(attribute, car)\n",
    "    \n",
    "    # this statement is outside the inner loop\n",
    "    print(\"-----\")"
   ]
  },
  {
   "cell_type": "code",
   "execution_count": 76,
   "id": "1f0d0081-7fb5-44a0-8212-d434f14551e7",
   "metadata": {},
   "outputs": [
    {
     "name": "stdin",
     "output_type": "stream",
     "text": [
      "Guess a word:  dcfds\n",
      "Guess a word:  dds\n",
      "Guess a word:  ed\n",
      "Guess a word:  chupacabra\n"
     ]
    },
    {
     "name": "stdout",
     "output_type": "stream",
     "text": [
      "You've successfully left the loop\n"
     ]
    }
   ],
   "source": [
    "secret_word = \"chupacabra\"\n",
    "\n",
    "phrase = input(\"Guess a word: \")\n",
    "\n",
    "while phrase != secret_word:\n",
    "    phrase = input(\"Guess a word: \")\n",
    "    if phrase == secret_word:\n",
    "        print(\"You've successfully left the loop\")"
   ]
  },
  {
   "cell_type": "code",
   "execution_count": 2,
   "id": "8d9f44a4-584c-436e-803e-bce0ad8a2b75",
   "metadata": {},
   "outputs": [
    {
     "name": "stdout",
     "output_type": "stream",
     "text": [
      "Hi\n",
      "Hi\n",
      "Hi\n",
      "Hi\n"
     ]
    }
   ],
   "source": [
    "# iterate from i = 0 to 3\n",
    "for _ in range(0, 4):\n",
    "    print('Hi')"
   ]
  },
  {
   "cell_type": "code",
   "execution_count": null,
   "id": "aea8b669-b4b5-4ae9-b83e-7fcc83beb64a",
   "metadata": {},
   "outputs": [],
   "source": [
    "n = int(input(\"Enter a number: \"))\n",
    "counter = 0\n",
    "while n < 5\n",
    "if n < 0:\n",
    "    print(\"Factorial is not defined\")\n",
    "elif n == 0 or n==1:\n",
    "    print(1)\n",
    "else n > 1:\n",
    "    result = 1\n",
    "    for i in range(2, n+1):\n",
    "        result*= i\n",
    "        print(result)"
   ]
  },
  {
   "cell_type": "code",
   "execution_count": null,
   "id": "61ee98ad-8a23-49b3-ac6c-fd5c53deb788",
   "metadata": {},
   "outputs": [],
   "source": []
  },
  {
   "cell_type": "code",
   "execution_count": null,
   "id": "3b9c03a5-2c37-4b4b-9fe3-8282b7be6ce6",
   "metadata": {},
   "outputs": [],
   "source": []
  }
 ],
 "metadata": {
  "kernelspec": {
   "display_name": "Python 3 (ipykernel)",
   "language": "python",
   "name": "python3"
  },
  "language_info": {
   "codemirror_mode": {
    "name": "ipython",
    "version": 3
   },
   "file_extension": ".py",
   "mimetype": "text/x-python",
   "name": "python",
   "nbconvert_exporter": "python",
   "pygments_lexer": "ipython3",
   "version": "3.12.4"
  }
 },
 "nbformat": 4,
 "nbformat_minor": 5
}
