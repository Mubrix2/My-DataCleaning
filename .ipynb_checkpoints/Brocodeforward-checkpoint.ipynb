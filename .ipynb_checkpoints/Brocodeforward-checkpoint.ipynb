{
 "cells": [
  {
   "cell_type": "code",
   "execution_count": 2,
   "id": "be674ac5-3185-4f64-8555-4bc428da8c9c",
   "metadata": {},
   "outputs": [
    {
     "name": "stdin",
     "output_type": "stream",
     "text": [
      "What item would you like to buy?:  Bottle\n",
      "What's the price?:  25\n",
      "How many of it will you get?:  5\n"
     ]
    },
    {
     "name": "stdout",
     "output_type": "stream",
     "text": [
      "The total is N125.0\n"
     ]
    }
   ],
   "source": [
    "item = input(\"What item would you like to buy?: \")\n",
    "price = float(input(\"What's the price?: \"))\n",
    "quantity = int(input(\"How many of it will you get?: \"))\n",
    "\n",
    "total = price * quantity\n",
    "print(f'The total is N{total}')"
   ]
  },
  {
   "cell_type": "code",
   "execution_count": 5,
   "id": "eb929cda-6af8-4b28-8f68-8032a760399a",
   "metadata": {},
   "outputs": [
    {
     "name": "stdin",
     "output_type": "stream",
     "text": [
      "Enter a player's name:  Messi\n",
      "Enter the player's position:  forward\n",
      "Enter the player's club:  inter-miami\n"
     ]
    },
    {
     "name": "stdout",
     "output_type": "stream",
     "text": [
      "I am not a fan of football, but, I can tell you about Messi. He plays as a forward in American league club named, inter-miami. He is one of the legends the club has ever had\n"
     ]
    }
   ],
   "source": [
    "playername = input('Enter a player\\'s name: ')\n",
    "position = input('Enter the player\\'s position: ')\n",
    "club = input('Enter the player\\'s club: ')\n",
    "\n",
    "print(f'I am not a fan of football, but, I can tell you about {playername}. \\\n",
    "He plays as a {position} in American league club named, {club}. He is one of the legends the club has ever had')"
   ]
  },
  {
   "cell_type": "code",
   "execution_count": 10,
   "id": "321b6fb2-77b9-4ceb-966c-4f8512c9f038",
   "metadata": {},
   "outputs": [
    {
     "name": "stdout",
     "output_type": "stream",
     "text": [
      "-2 2 -2\n"
     ]
    }
   ],
   "source": [
    "x = -2\n",
    "y = abs(x)\n",
    "z = min(x, y)\n",
    "print(x,y, z)"
   ]
  },
  {
   "cell_type": "code",
   "execution_count": 15,
   "id": "0c8a6e80-3b64-406e-acc7-996f611b80b1",
   "metadata": {},
   "outputs": [
    {
     "name": "stdin",
     "output_type": "stream",
     "text": [
      "Enter your name:  ah\n"
     ]
    },
    {
     "name": "stdout",
     "output_type": "stream",
     "text": [
      "I don't accept this\n"
     ]
    },
    {
     "name": "stdin",
     "output_type": "stream",
     "text": [
      "Enter your name:  \n",
      "Enter your name:  \n",
      "Enter your name:  Mubarak\n"
     ]
    },
    {
     "name": "stdout",
     "output_type": "stream",
     "text": [
      "You can now move on, Mubarak\n"
     ]
    }
   ],
   "source": [
    "user_input = input('Enter your name: ')\n",
    "\n",
    "while True:\n",
    "    if user_input == \"\":\n",
    "        user_input = input('Enter your name: ')\n",
    "    else:\n",
    "        if len(user_input) < 4:\n",
    "            print(\"I don't accept this\")\n",
    "            user_input = input('Enter your name: ')\n",
    "        else:\n",
    "            print(f\"You can now move on, {user_input}\")\n",
    "            break"
   ]
  },
  {
   "cell_type": "code",
   "execution_count": 2,
   "id": "98dba057-ecd8-44c0-bc44-c9ff8f9f603d",
   "metadata": {},
   "outputs": [
    {
     "name": "stdin",
     "output_type": "stream",
     "text": [
      "Enter an operator, (+, -, /, *):  +\n",
      "Enter first number:  2\n",
      "Enter second number:  3\n"
     ]
    },
    {
     "name": "stdout",
     "output_type": "stream",
     "text": [
      "5.0\n"
     ]
    }
   ],
   "source": [
    "operator = input(\"Enter an operator, (+, -, /, *): \")\n",
    "num1 = float(input(\"Enter first number: \"))\n",
    "num2 = float(input(\"Enter second number: \"))\n",
    "\n",
    "\n",
    "if operator == '':\n",
    "    operator = input(\"Enter an operator, (+, -, /, *): \")\n",
    "elif operator == \"+\":\n",
    "    print(num1 + num2)\n",
    "elif operator == \"-\":\n",
    "    print(num1 - num2)\n",
    "elif operator == \"/\":\n",
    "    print(num1 / num2)\n",
    "elif operator == \"*\":\n",
    "    print(num1 * num2)\n",
    "else:\n",
    "    print(f\"{operator} is not valid\")\n",
    "           "
   ]
  },
  {
   "cell_type": "code",
   "execution_count": 9,
   "id": "2f327153-c55d-47bf-a3c1-b7913d96c8b5",
   "metadata": {},
   "outputs": [
    {
     "name": "stdin",
     "output_type": "stream",
     "text": [
      "Enter your weight:  67\n",
      "In what unit? K or L:  k\n"
     ]
    },
    {
     "name": "stdout",
     "output_type": "stream",
     "text": [
      "Your weight is: 1089 Lbs.\n"
     ]
    }
   ],
   "source": [
    "weight = float(input(\"Enter your weight: \"))\n",
    "unit = input(\"In what unit? K or L: \").upper()\n",
    "\n",
    "if unit == \"K\":\n",
    "    weight = user_weight * 2.205\n",
    "    unit = \"Lbs.\"\n",
    "    print(f\"Your weight is: {round(weight)} {unit}\")\n",
    "elif unit == \"L\":\n",
    "    weight = user_weight / 2.205\n",
    "    unit = \"Kgs.\"\n",
    "    print(f\"Your weight is: {round(weight)} {unit}\")\n",
    "else:\n",
    "    print(\"Enter a valid input\")\n",
    "\n"
   ]
  },
  {
   "cell_type": "code",
   "execution_count": 12,
   "id": "0adde122-a767-4ca9-8d93-cbb03c0f1d3f",
   "metadata": {},
   "outputs": [
    {
     "name": "stdout",
     "output_type": "stream",
     "text": [
      "Negative\n"
     ]
    }
   ],
   "source": [
    "#Ternary Operator = X if True else Y\n",
    "num = -5\n",
    "print(\"Positive\" if num > 0 else \"Negative\")"
   ]
  },
  {
   "cell_type": "code",
   "execution_count": 4,
   "id": "780331c7-455d-428a-97e4-81acf3f7990a",
   "metadata": {},
   "outputs": [
    {
     "name": "stdin",
     "output_type": "stream",
     "text": [
      "Enter a username:  28jejwj\n"
     ]
    },
    {
     "name": "stdout",
     "output_type": "stream",
     "text": [
      "Can't contain digits\n"
     ]
    }
   ],
   "source": [
    "# Validate user exercise\n",
    "# 1. username is not more than 12 characters\n",
    "# 2. username must not contain spaces\n",
    "# 3. username must not contain digits\n",
    "\n",
    "user_name = input(\"Enter a username: \")\n",
    "\n",
    "if len(user_name) > 12:\n",
    "    print(\"You can't have more than 12 characters\")\n",
    "elif not user_name.isalpha():\n",
    "    print(\"Can't contain digits\")\n",
    "elif not user_name.find(' ') == -1:\n",
    "    print(\"Username can't contain spaces\")\n",
    "else:\n",
    "    print(f\"{user_name} is your username\")"
   ]
  },
  {
   "cell_type": "code",
   "execution_count": 11,
   "id": "43718eaa-dfcb-4090-a907-d6203dad21c3",
   "metadata": {},
   "outputs": [
    {
     "name": "stdout",
     "output_type": "stream",
     "text": [
      "XXXX-XXXX-XXXX-3456\n",
      "6543-2109-8765-4321\n"
     ]
    }
   ],
   "source": [
    "credit_card = '1234-5678-9012-3456'\n",
    "\n",
    "last_digits = credit_card[-4:]\n",
    "reverse_digits = credit_card[::-1]\n",
    "print(f'XXXX-XXXX-XXXX-{last_digits}')\n",
    "print(reverse_digits)"
   ]
  },
  {
   "cell_type": "code",
   "execution_count": 2,
   "id": "1edc59f1-ecec-415e-bd13-997143d469c9",
   "metadata": {},
   "outputs": [
    {
     "name": "stdin",
     "output_type": "stream",
     "text": [
      "Enter a food of your choice or 'q' to quit:   \n",
      "Enter a food of your choice or 'q' to quit:   \n",
      "Enter a food of your choice or 'q' to quit:  fufu\n"
     ]
    },
    {
     "name": "stdout",
     "output_type": "stream",
     "text": [
      "You like fufu\n"
     ]
    },
    {
     "name": "stdin",
     "output_type": "stream",
     "text": [
      "Enter a food of your choice or 'q' to quit:  q\n"
     ]
    },
    {
     "name": "stdout",
     "output_type": "stream",
     "text": [
      "Bye!!!\n"
     ]
    }
   ],
   "source": [
    "fav_food = input(\"Enter a food of your choice or 'q' to quit: \")\n",
    "\n",
    "while not fav_food == 'q':\n",
    "    if fav_food == \" \":\n",
    "        fav_food = input(\"Enter a food of your choice or 'q' to quit: \")\n",
    "    else:\n",
    "        print(f'You like {fav_food}')\n",
    "        fav_food = input(\"Enter a food of your choice or 'q' to quit: \")\n",
    "   \n",
    "print(\"Bye!!!\")"
   ]
  },
  {
   "cell_type": "code",
   "execution_count": 2,
   "id": "552cd137-d0eb-436b-8acf-84bea3baf4eb",
   "metadata": {},
   "outputs": [
    {
     "name": "stdin",
     "output_type": "stream",
     "text": [
      "Enter the principal amount:  -1\n"
     ]
    },
    {
     "name": "stdout",
     "output_type": "stream",
     "text": [
      "principal can't be less than zero\n"
     ]
    },
    {
     "name": "stdin",
     "output_type": "stream",
     "text": [
      "Enter the principal amount:  0\n"
     ]
    },
    {
     "name": "stdout",
     "output_type": "stream",
     "text": [
      "principal can't be less than zero\n"
     ]
    },
    {
     "name": "stdin",
     "output_type": "stream",
     "text": [
      "Enter the principal amount:  45\n",
      "Enter the rate amount:  0\n"
     ]
    },
    {
     "name": "stdout",
     "output_type": "stream",
     "text": [
      "Rate can't be less than zero\n"
     ]
    },
    {
     "name": "stdin",
     "output_type": "stream",
     "text": [
      "Enter the rate amount:  3\n",
      "Enter the time amount:  1\n"
     ]
    },
    {
     "name": "stdout",
     "output_type": "stream",
     "text": [
      "46.35\n"
     ]
    }
   ],
   "source": [
    "principal = 0\n",
    "rate = 0\n",
    "time = 0\n",
    "\n",
    "while principal <= 0:\n",
    "    principal = float(input(\"Enter the principal amount: \"))\n",
    "    if principal <= 0:\n",
    "       print(\"principal can't be less than zero\")\n",
    "\n",
    "while rate <= 0:\n",
    "    rate = float(input(\"Enter the rate amount: \"))\n",
    "    if rate <= 0:\n",
    "       print(\"Rate can't be less than zero\")\n",
    "\n",
    "while time <= 0:\n",
    "    time = float(input(\"Enter the time amount: \"))\n",
    "    if time <= 0:\n",
    "       print(\"Rate can't be less than zero\")\n",
    "\n",
    "total = principal * pow((1 + rate / 100), time)\n",
    "print(total)"
   ]
  },
  {
   "cell_type": "code",
   "execution_count": null,
   "id": "236aaf5d-16b5-4914-b600-4fc6d4669924",
   "metadata": {},
   "outputs": [],
   "source": [
    "# format specifiers =  {:flags} format a value on what flags are inserted\n",
    "\n",
    "# .(number)f = round to that many decimal places (fixed point)\n",
    "# :(number) = allocate that many spaces\n",
    "# :03 = allocate and zero pad that many spaces\n",
    "# :< = left justify\n",
    "# :> = right justify\n",
    "# :^ = center align\n",
    "# :+ = use a plus sign to indicate positive value\n",
    "# := = place sign to leftmost position\n",
    "# : = insert a space before positive numbers\n",
    "# :, = comma seperator\n",
    "\n"
   ]
  },
  {
   "cell_type": "code",
   "execution_count": 3,
   "id": "615ebcd5-bf57-47e5-bfa4-a4fe1b419709",
   "metadata": {},
   "outputs": [
    {
     "name": "stdin",
     "output_type": "stream",
     "text": [
      "Where should I start counting from:  5\n"
     ]
    },
    {
     "name": "stdout",
     "output_type": "stream",
     "text": [
      "5\n",
      "4\n",
      "3\n",
      "2\n",
      "1\n",
      "0\n",
      "Now, I am awake\n"
     ]
    }
   ],
   "source": [
    "import time \n",
    "\n",
    "input_timer = int(input(\"Where should I start counting from: \"))\n",
    "for x in reversed(range(0, input_timer + 1)):\n",
    "    print(x)\n",
    "    time.sleep(1)\n",
    "    \n",
    "\n",
    "print(\"Now, I am awake\")"
   ]
  },
  {
   "cell_type": "code",
   "execution_count": 11,
   "id": "673aae85-c91c-47e3-9140-948772dd511d",
   "metadata": {},
   "outputs": [
    {
     "name": "stdin",
     "output_type": "stream",
     "text": [
      "How many seconds:  5\n"
     ]
    },
    {
     "name": "stdout",
     "output_type": "stream",
     "text": [
      "00:00:05\n",
      "00:00:04\n",
      "00:00:03\n",
      "00:00:02\n",
      "00:00:01\n",
      "Time is up!!!\n"
     ]
    }
   ],
   "source": [
    "import time\n",
    "\n",
    "user_time = int(input(\"How many seconds: \"))\n",
    "\n",
    "for x in reversed(range(1, user_time + 1)):\n",
    "    seconds = x % 60\n",
    "    minutes = int(x / 60) % 60\n",
    "    print(f'00:{minutes:02}:{seconds:02}')\n",
    "    time.sleep(1)\n",
    "\n",
    "print(\"Time is up!!!\")"
   ]
  },
  {
   "cell_type": "code",
   "execution_count": 1,
   "id": "f909e1e7-64ae-461a-9156-9d434cd432b7",
   "metadata": {},
   "outputs": [
    {
     "name": "stdin",
     "output_type": "stream",
     "text": [
      "How many seconds:  10\n"
     ]
    },
    {
     "name": "stdout",
     "output_type": "stream",
     "text": [
      "00:00:10\n",
      "00:00:09\n",
      "00:00:08\n",
      "00:00:07\n",
      "00:00:06\n",
      "00:00:05\n",
      "00:00:04\n",
      "00:00:03\n",
      "00:00:02\n",
      "00:00:01\n",
      "Time is up!!!\n"
     ]
    }
   ],
   "source": [
    "import time\n",
    "\n",
    "user_time = int(input(\"How many seconds: \"))\n",
    "\n",
    "for x in (range(user_time, 0, -1)):\n",
    "    seconds = x % 60\n",
    "    minutes = (x // 60) % 60\n",
    "    hours = x // 3600\n",
    "    print(f'{hours:02}:{minutes:02}:{seconds:02}')\n",
    "    time.sleep(1)\n",
    "\n",
    "print(\"Time is up!!!\")"
   ]
  },
  {
   "cell_type": "code",
   "execution_count": null,
   "id": "2864888e-48bc-403c-b065-6853f039fabf",
   "metadata": {},
   "outputs": [
    {
     "name": "stdin",
     "output_type": "stream",
     "text": [
      "Enter the time in secs:  100000\n"
     ]
    },
    {
     "name": "stdout",
     "output_type": "stream",
     "text": [
      "01:27:46:40\n",
      "01:27:46:39\n",
      "01:27:46:38\n",
      "01:27:46:37\n",
      "01:27:46:36\n",
      "01:27:46:35\n",
      "01:27:46:34\n",
      "01:27:46:33\n",
      "01:27:46:32\n",
      "01:27:46:31\n",
      "01:27:46:30\n"
     ]
    }
   ],
   "source": [
    "import time\n",
    "\n",
    "start_sec = int(input(\"Enter the time in secs: \"))\n",
    "\n",
    "for _ in range(start_sec, 0, -1):\n",
    "    seconds = _  % 60\n",
    "    minutes = (_ // 60) % 60\n",
    "    hours = _ // 3600 \n",
    "    days = (_ // 86400) % 24\n",
    "    print(f'{days:02}:{hours:02}:{minutes:02}:{seconds:02}')\n",
    "    time.sleep(1)\n",
    "\n",
    "print('Time up!!!')\n",
    "    "
   ]
  },
  {
   "cell_type": "code",
   "execution_count": 2,
   "id": "1bccdf37-bd8b-4919-a2c4-24bb223ff3f9",
   "metadata": {},
   "outputs": [
    {
     "name": "stdout",
     "output_type": "stream",
     "text": [
      "13579\n",
      "13579\n",
      "13579\n"
     ]
    }
   ],
   "source": [
    "for x in range(3):\n",
    "    for y in range(1, 11, 2):\n",
    "        print(y, end=\"\")\n",
    "    print()"
   ]
  },
  {
   "cell_type": "code",
   "execution_count": 5,
   "id": "00593e61-1913-43db-8a52-c0bb59342052",
   "metadata": {},
   "outputs": [
    {
     "name": "stdin",
     "output_type": "stream",
     "text": [
      "Enter the numbers of rows:  4\n",
      "Enter the numbers of columns:  8\n",
      "Enter the the symbols you want:  *\n"
     ]
    },
    {
     "name": "stdout",
     "output_type": "stream",
     "text": [
      "********\n",
      "********\n",
      "********\n",
      "********\n"
     ]
    }
   ],
   "source": [
    "rows = int(input(\"Enter the numbers of rows: \"))\n",
    "columns = int(input(\"Enter the numbers of columns: \"))\n",
    "symbols = input(\"Enter the the symbols you want: \")\n",
    "\n",
    "for x in range(rows):\n",
    "    for y in range(columns):\n",
    "        print(symbols, end='')\n",
    "    print()"
   ]
  },
  {
   "cell_type": "code",
   "execution_count": null,
   "id": "5f21386a-f825-4bd6-af08-08c81ab3af5e",
   "metadata": {},
   "outputs": [],
   "source": [
    "#collection = single \"variable\" used to store multiple values\n",
    "# List = [] ordered and changeable , Duplicates OK\n",
    "# Set = {} unordered and immutable, but Add/Remove OK, No duplicates\n",
    "# Tuple = () ordered and unchangeable, Duplicates OK, Faster"
   ]
  },
  {
   "cell_type": "code",
   "execution_count": null,
   "id": "7199a2be-588a-4d3a-a33e-161de8ccb876",
   "metadata": {},
   "outputs": [
    {
     "name": "stdout",
     "output_type": "stream",
     "text": [
      "['__add__', '__class__', '__contains__', '__delattr__', '__dir__', '__doc__', '__eq__', '__format__', '__ge__', '__getattribute__', '__getitem__', '__getnewargs__', '__getstate__', '__gt__', '__hash__', '__init__', '__init_subclass__', '__iter__', '__le__', '__len__', '__lt__', '__mod__', '__mul__', '__ne__', '__new__', '__reduce__', '__reduce_ex__', '__repr__', '__rmod__', '__rmul__', '__setattr__', '__sizeof__', '__str__', '__subclasshook__', 'capitalize', 'casefold', 'center', 'count', 'encode', 'endswith', 'expandtabs', 'find', 'format', 'format_map', 'index', 'isalnum', 'isalpha', 'isascii', 'isdecimal', 'isdigit', 'isidentifier', 'islower', 'isnumeric', 'isprintable', 'isspace', 'istitle', 'isupper', 'join', 'ljust', 'lower', 'lstrip', 'maketrans', 'partition', 'removeprefix', 'removesuffix', 'replace', 'rfind', 'rindex', 'rjust', 'rpartition', 'rsplit', 'rstrip', 'split', 'splitlines', 'startswith', 'strip', 'swapcase', 'title', 'translate', 'upper', 'zfill']\n",
      "Welcome to Python 3.12's help utility! If this is your first time using\n",
      "Python, you should definitely check out the tutorial at\n",
      "https://docs.python.org/3.12/tutorial/.\n",
      "\n",
      "Enter the name of any module, keyword, or topic to get help on writing\n",
      "Python programs and using Python modules.  To get a list of available\n",
      "modules, keywords, symbols, or topics, enter \"modules\", \"keywords\",\n",
      "\"symbols\", or \"topics\".\n",
      "\n",
      "Each module also comes with a one-line summary of what it does; to list\n",
      "the modules whose name or summary contain a given string such as \"spam\",\n",
      "enter \"modules spam\".\n",
      "\n",
      "To quit this help utility and return to the interpreter,\n",
      "enter \"q\" or \"quit\".\n",
      "\n"
     ]
    }
   ],
   "source": [
    "fruits = ['apple', 'banana', 'mango']\n",
    "\n",
    "for fruit in  fruits:\n",
    "    # print(dir(fruit))\n",
    "    print(help())"
   ]
  },
  {
   "cell_type": "code",
   "execution_count": null,
   "id": "a8cdc6fb-af50-44b8-a0e9-1b5c8fa35a21",
   "metadata": {},
   "outputs": [],
   "source": []
  }
 ],
 "metadata": {
  "kernelspec": {
   "display_name": "Python 3 (ipykernel)",
   "language": "python",
   "name": "python3"
  },
  "language_info": {
   "codemirror_mode": {
    "name": "ipython",
    "version": 3
   },
   "file_extension": ".py",
   "mimetype": "text/x-python",
   "name": "python",
   "nbconvert_exporter": "python",
   "pygments_lexer": "ipython3",
   "version": "3.12.4"
  }
 },
 "nbformat": 4,
 "nbformat_minor": 5
}
