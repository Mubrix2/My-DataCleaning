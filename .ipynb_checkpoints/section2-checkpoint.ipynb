{
 "cells": [
  {
   "cell_type": "code",
   "execution_count": 1,
   "id": "62036f5a-ef82-4402-8950-58f46829fbd1",
   "metadata": {},
   "outputs": [],
   "source": [
    "import numpy as np"
   ]
  },
  {
   "cell_type": "code",
   "execution_count": 2,
   "id": "663cb26b-eedc-4c52-aecf-5c44878301a7",
   "metadata": {},
   "outputs": [],
   "source": [
    "my_list = [1, 2, 3, 4]"
   ]
  },
  {
   "cell_type": "code",
   "execution_count": 3,
   "id": "8dd7aaca-ed4a-4102-9097-72ebc13338af",
   "metadata": {},
   "outputs": [
    {
     "data": {
      "text/plain": [
       "[1, 2, 3, 4]"
      ]
     },
     "execution_count": 3,
     "metadata": {},
     "output_type": "execute_result"
    }
   ],
   "source": [
    "my_list"
   ]
  },
  {
   "cell_type": "code",
   "execution_count": 4,
   "id": "a0f38dd7-397d-466a-868e-2ac93b479d01",
   "metadata": {},
   "outputs": [
    {
     "data": {
      "text/plain": [
       "array([1, 2, 3, 4])"
      ]
     },
     "execution_count": 4,
     "metadata": {},
     "output_type": "execute_result"
    }
   ],
   "source": [
    "np.array(my_list)"
   ]
  },
  {
   "cell_type": "code",
   "execution_count": 2,
   "id": "0338b465-9d4a-40e4-9e04-2b80ddf21bf3",
   "metadata": {},
   "outputs": [
    {
     "name": "stdout",
     "output_type": "stream",
     "text": [
      "[4, 6]\n"
     ]
    }
   ],
   "source": [
    "s = [2,4,6,8]\n",
    "print(s[-3:-1])"
   ]
  },
  {
   "cell_type": "code",
   "execution_count": 1,
   "id": "6e7d2633-6eac-44fb-9e34-cb69339eb0a5",
   "metadata": {},
   "outputs": [
    {
     "name": "stdout",
     "output_type": "stream",
     "text": [
      "['False', 'None', 'True', 'and', 'as', 'assert', 'async', 'await', 'break', 'class', 'continue', 'def', 'del', 'elif', 'else', 'except', 'finally', 'for', 'from', 'global', 'if', 'import', 'in', 'is', 'lambda', 'nonlocal', 'not', 'or', 'pass', 'raise', 'return', 'try', 'while', 'with', 'yield']\n"
     ]
    }
   ],
   "source": [
    "import keyword\n",
    "print(keyword.kwlist)"
   ]
  },
  {
   "cell_type": "markdown",
   "id": "e45f5058-3f55-43b2-bd4f-217b3116b367",
   "metadata": {},
   "source": [
    "#Strings"
   ]
  },
  {
   "cell_type": "code",
   "execution_count": 5,
   "id": "51b87bad-36e0-4eb2-b260-8c4149b4ca31",
   "metadata": {},
   "outputs": [
    {
     "name": "stdout",
     "output_type": "stream",
     "text": [
      "32\n"
     ]
    }
   ],
   "source": [
    "char_1 = ' '\n",
    "print(ord(char_1))"
   ]
  },
  {
   "cell_type": "code",
   "execution_count": 6,
   "id": "b54226df-e029-4d10-be46-22cf0aebda6f",
   "metadata": {},
   "outputs": [
    {
     "name": "stdout",
     "output_type": "stream",
     "text": [
      "a\n",
      "α\n"
     ]
    }
   ],
   "source": [
    "# Demonstrating the chr() function.\n",
    "\n",
    "print(chr(97))\n",
    "print(chr(945))"
   ]
  },
  {
   "cell_type": "code",
   "execution_count": 7,
   "id": "2dcad334-4a49-453e-995f-789ef3dba78b",
   "metadata": {},
   "outputs": [
    {
     "name": "stdout",
     "output_type": "stream",
     "text": [
      "õ\n"
     ]
    }
   ],
   "source": [
    "print(chr(245))"
   ]
  },
  {
   "cell_type": "code",
   "execution_count": 13,
   "id": "ed7e35b9-07bf-4e65-bb61-4b080312adfe",
   "metadata": {},
   "outputs": [
    {
     "name": "stdout",
     "output_type": "stream",
     "text": [
      "s i l l y   w a l k s \n"
     ]
    }
   ],
   "source": [
    "# Indexing strings.\n",
    "\n",
    "the_string = 'silly walks'\n",
    "\n",
    "for ix in range(len(the_string)):\n",
    "    print(the_string[ix], end=' ')\n",
    "\n",
    "print()\n",
    "\n"
   ]
  },
  {
   "cell_type": "code",
   "execution_count": 12,
   "id": "d207ee9f-4d02-478d-8035-1062a20427a9",
   "metadata": {},
   "outputs": [
    {
     "name": "stdout",
     "output_type": "stream",
     "text": [
      "s\n",
      "i\n",
      "l\n",
      "l\n",
      "y\n",
      " \n",
      "w\n",
      "a\n",
      "l\n",
      "k\n",
      "s\n",
      "\n"
     ]
    }
   ],
   "source": [
    "# Iterating through a string.\n",
    "\n",
    "the_string = 'silly walks'\n",
    "\n",
    "for character in the_string:\n",
    "    print(character)\n",
    "\n",
    "print()\n",
    "\n"
   ]
  },
  {
   "cell_type": "code",
   "execution_count": 17,
   "id": "625d6733-23e5-46b8-9990-0ec35a37e970",
   "metadata": {},
   "outputs": [
    {
     "name": "stdout",
     "output_type": "stream",
     "text": [
      "True\n",
      "False\n",
      "False\n",
      "True\n",
      "False\n"
     ]
    }
   ],
   "source": [
    "alphabet = \"abcdefghijklmnopqrstuvwxyz\"\n",
    "\n",
    "print(\"f\" in alphabet)\n",
    "print(\"F\" in alphabet)\n",
    "print(\"1\" in alphabet)\n",
    "print(\"ghi\" in alphabet)\n",
    "print(\"Xyz\" in alphabet)\n",
    "\n"
   ]
  },
  {
   "cell_type": "code",
   "execution_count": 22,
   "id": "3b15f623-1974-4e24-bbbb-fa233521fc9d",
   "metadata": {},
   "outputs": [
    {
     "name": "stdout",
     "output_type": "stream",
     "text": [
      "This is impossible\n"
     ]
    }
   ],
   "source": [
    "alphabet = \"abcdefghijklmnopqrstuvwxyz\"\n",
    "\n",
    "# Write test code here.\n",
    "try:\n",
    "    del alphabet\n",
    "    print(alphabet)\n",
    "except:\n",
    "    print(\"This is impossible\")"
   ]
  },
  {
   "cell_type": "code",
   "execution_count": 23,
   "id": "cb8d76d7-7288-42d9-9ee6-75276d30b1be",
   "metadata": {},
   "outputs": [
    {
     "name": "stdout",
     "output_type": "stream",
     "text": [
      "0\n"
     ]
    }
   ],
   "source": [
    "t = [0, 1, 2]\n",
    "print(min(t))"
   ]
  },
  {
   "cell_type": "code",
   "execution_count": 24,
   "id": "23ab2658-2744-4e54-adc7-e0591b61fc7e",
   "metadata": {},
   "outputs": [
    {
     "name": "stdout",
     "output_type": "stream",
     "text": [
      "2\n"
     ]
    }
   ],
   "source": [
    "t = [0, 1, 2]\n",
    "print(max(t))"
   ]
  },
  {
   "cell_type": "code",
   "execution_count": 27,
   "id": "078497a3-908e-4809-a181-89bdc97837b6",
   "metadata": {},
   "outputs": [
    {
     "name": "stdout",
     "output_type": "stream",
     "text": [
      "2\n"
     ]
    }
   ],
   "source": [
    "print(\"aAbByYzZaA\".index(\"b\"))"
   ]
  },
  {
   "cell_type": "code",
   "execution_count": 33,
   "id": "5b260e49-acba-46fe-9658-412c61a0b7ae",
   "metadata": {},
   "outputs": [
    {
     "name": "stdout",
     "output_type": "stream",
     "text": [
      "['a', 'b', 'c', 'a', 'b', 'c']\n",
      "2\n"
     ]
    }
   ],
   "source": [
    "print(list(\"abcabc\"))\n",
    "# Demonstrating the count() method:\n",
    "print(\"abcabc\".count(\"b\"))"
   ]
  },
  {
   "cell_type": "code",
   "execution_count": 1,
   "id": "0736043b-316b-44df-8673-5944af573bcc",
   "metadata": {},
   "outputs": [
    {
     "name": "stdout",
     "output_type": "stream",
     "text": [
      "Abcd\n",
      "Abcd\n",
      "Alpha\n",
      "Alpha\n",
      " alpha\n",
      "123\n",
      "Αβγδ\n"
     ]
    }
   ],
   "source": [
    "print('aBcD'.capitalize())\n",
    "# Demonstrating the capitalize() method:\n",
    "print('aBcD'.capitalize())\n",
    "print(\"Alpha\".capitalize())\n",
    "print('ALPHA'.capitalize())\n",
    "print(' Alpha'.capitalize())\n",
    "print('123'.capitalize())\n",
    "print(\"αβγδ\".capitalize())"
   ]
  },
  {
   "cell_type": "code",
   "execution_count": 4,
   "id": "8a1dc6aa-b636-4621-9c60-cb2f90aaa038",
   "metadata": {},
   "outputs": [
    {
     "name": "stdout",
     "output_type": "stream",
     "text": [
      "[  alpha   ]\n",
      "[Beta]\n",
      "[Beta]\n",
      "[ Beta ]\n",
      "[ Mubarak  ]\n"
     ]
    }
   ],
   "source": [
    "# Demonstrating the center() method:\n",
    "print('[' + 'alpha'.center(10) + ']')\n",
    "print('[' + 'Beta'.center(2) + ']')\n",
    "print('[' + 'Beta'.center(4) + ']')\n",
    "print('[' + 'Beta'.center(6) + ']')\n",
    "print('[' + 'Mubarak'.center(10) + ']')"
   ]
  },
  {
   "cell_type": "code",
   "execution_count": 5,
   "id": "d7cde140-40ae-4382-9309-2eb9b20e07e2",
   "metadata": {},
   "outputs": [
    {
     "name": "stdout",
     "output_type": "stream",
     "text": [
      "yes\n"
     ]
    }
   ],
   "source": [
    "# Demonstrating the endswith() method:\n",
    "if \"epsilon\".endswith(\"on\"):\n",
    "    print(\"yes\")\n",
    "else:\n",
    "    print(\"no\")"
   ]
  },
  {
   "cell_type": "code",
   "execution_count": 7,
   "id": "339df016-e6f0-4821-b304-1b6ee612b43a",
   "metadata": {},
   "outputs": [
    {
     "name": "stdout",
     "output_type": "stream",
     "text": [
      "1\n",
      "-1\n"
     ]
    }
   ],
   "source": [
    "# Demonstrating the find() method:\n",
    "print(\"Eta\".find(\"ta\"))\n",
    "print(\"Eta\".find(\"mma\"))"
   ]
  },
  {
   "cell_type": "code",
   "execution_count": 8,
   "id": "4ebf2ca8-7e0d-458c-bf73-1a1d248cd66f",
   "metadata": {},
   "outputs": [
    {
     "name": "stdin",
     "output_type": "stream",
     "text": [
      "Search for a word:  I need to kill you, so you will die and never need to murder yourself for talking to me that way\n"
     ]
    },
    {
     "name": "stdout",
     "output_type": "stream",
     "text": [
      "{'die': 32, 'kill': 10, 'murder': 54}\n"
     ]
    }
   ],
   "source": [
    "user_word = input('Search for a word: ')\n",
    "\n",
    "substrings = ['die', 'kill', 'murder']\n",
    "\n",
    "positions = {word: user_word.find(word) for word in substrings if user_word.find != -1}\n",
    "print(positions)"
   ]
  },
  {
   "cell_type": "code",
   "execution_count": 7,
   "id": "5b4349a6-7f6d-4f96-b34e-4ba669d0e41b",
   "metadata": {},
   "outputs": [
    {
     "name": "stdin",
     "output_type": "stream",
     "text": [
      "enter make I chop am:  asada\n"
     ]
    },
    {
     "name": "stdout",
     "output_type": "stream",
     "text": [
      "asada\n"
     ]
    }
   ],
   "source": [
    "user_word = input('enter make I chop am: ').lower()\n",
    "\n",
    "substrings = ['a', 'e', 'i', 'o', 'u']\n",
    "while _ in substrings:\n",
    "    if _ == user_word:\n",
    "        continue\n",
    "        break\n",
    "print(user_word)"
   ]
  },
  {
   "cell_type": "code",
   "execution_count": 1,
   "id": "2413aec4-01ea-4d88-9331-cab9d13986d0",
   "metadata": {},
   "outputs": [
    {
     "name": "stdout",
     "output_type": "stream",
     "text": [
      "__main__\n"
     ]
    }
   ],
   "source": [
    "print(__name__)"
   ]
  },
  {
   "cell_type": "code",
   "execution_count": 2,
   "id": "e815a7c1-65d3-44cd-ac93-8e405ca17529",
   "metadata": {},
   "outputs": [
    {
     "name": "stdout",
     "output_type": "stream",
     "text": [
      "C:\\Users\\USER\n"
     ]
    }
   ],
   "source": [
    "import os\n",
    "print(os.getcwd())"
   ]
  },
  {
   "cell_type": "code",
   "execution_count": null,
   "id": "a211b49f-bfc6-43d2-b798-b2b15d064cec",
   "metadata": {},
   "outputs": [],
   "source": [
    "print(os.chdir('moshpython'))"
   ]
  },
  {
   "cell_type": "code",
   "execution_count": 4,
   "id": "1f529b37-9f28-4b28-92d0-8fea33ce8aa2",
   "metadata": {},
   "outputs": [
    {
     "name": "stdout",
     "output_type": "stream",
     "text": [
      "['.bash_history', '.git', '.gitconfig', '.gk', '.ipynb_checkpoints', '.ipython', '.jupyter', '.lesshst', '.ssh', '.viminfo', '.VirtualBox', '.vscode', '3D Objects', 'AppData', 'Application Data', 'Contacts', 'controlflow.ipynb', 'Cookies', 'Desktop', 'Documents', 'Downloads', 'Favorites', 'firstattempt.ipynb', 'IntelGraphicsProfiles', 'Links', 'Local Settings', 'MicrosoftEdgeBackups', 'moshpython.ipynb', 'movie-search-app', 'Mubrix_file', 'Music', 'My Documents', 'NetHood', 'New folder', 'NTUSER.DAT', 'ntuser.dat.LOG1', 'ntuser.dat.LOG2', 'NTUSER.DAT{53b39e88-18c4-11ea-a811-000d3aa4692b}.TM.blf', 'NTUSER.DAT{53b39e88-18c4-11ea-a811-000d3aa4692b}.TMContainer00000000000000000001.regtrans-ms', 'NTUSER.DAT{53b39e88-18c4-11ea-a811-000d3aa4692b}.TMContainer00000000000000000002.regtrans-ms', 'ntuser.ini', 'OneDrive', 'package-lock.json', 'Pictures', 'PrintHood', 'Printing.ipynb', 'programizpractice.ipynb', 'Recent', 'Saved Games', 'Searches', 'section2.ipynb', 'SendTo', 'Start Menu', 'Templates', 'test', 'Testing', 'Tunez', 'Untitled1.ipynb', 'Videos', 'VirtualBox VMs', 'whileloop.ipynb']\n"
     ]
    }
   ],
   "source": [
    "print(os.listdir())"
   ]
  },
  {
   "cell_type": "code",
   "execution_count": null,
   "id": "2bf08aea-f734-482f-8a3c-306a465a436f",
   "metadata": {},
   "outputs": [],
   "source": [
    "print(os.mkdir('test'))"
   ]
  },
  {
   "cell_type": "code",
   "execution_count": null,
   "id": "275d57f5-a4ac-466a-97bb-24e04c67325a",
   "metadata": {},
   "outputs": [],
   "source": [
    "print(os.rename('test','new_one'))"
   ]
  },
  {
   "cell_type": "code",
   "execution_count": null,
   "id": "22e40e03-a220-4c2f-894c-2850e97f044c",
   "metadata": {},
   "outputs": [],
   "source": [
    "# delete \"myfile.txt\" file\n",
    "os.remove(\"myfile.txt\")"
   ]
  },
  {
   "cell_type": "code",
   "execution_count": null,
   "id": "5ba68652-8461-4d39-ba20-3c0caee05ea2",
   "metadata": {},
   "outputs": [],
   "source": [
    "# delete the empty directory \"mydir\"\n",
    "os.rmdir(\"mydir\") "
   ]
  },
  {
   "cell_type": "code",
   "execution_count": null,
   "id": "02a49887-861b-423a-8bf0-841f70a2539b",
   "metadata": {},
   "outputs": [],
   "source": [
    "import shutil\n",
    "\n",
    "# delete \"mydir\" directory and all of its contents\n",
    "shutil.rmtree(\"mydir\")"
   ]
  },
  {
   "cell_type": "code",
   "execution_count": 1,
   "id": "be3756ac-b9ca-4690-83be-45e5b34de8e5",
   "metadata": {},
   "outputs": [
    {
     "name": "stdout",
     "output_type": "stream",
     "text": [
      "baba.mama.gaga\n"
     ]
    }
   ],
   "source": [
    "my_list = ['baba', 'mama', 'gaga']\n",
    "print('.'.join(my_list))"
   ]
  },
  {
   "cell_type": "code",
   "execution_count": 10,
   "id": "bbfa1223-126a-49af-8059-f38f8d474320",
   "metadata": {},
   "outputs": [
    {
     "name": "stdin",
     "output_type": "stream",
     "text": [
      "Enter a word:         abajada\n"
     ]
    },
    {
     "name": "stdout",
     "output_type": "stream",
     "text": [
      "abajada\n"
     ]
    }
   ],
   "source": [
    "user_word = input('Enter a word: ').lower().strip()\n",
    "\n",
    "print(user_word)"
   ]
  },
  {
   "cell_type": "code",
   "execution_count": 3,
   "id": "bd929513-9b8d-4043-9a18-5b745cdadcab",
   "metadata": {},
   "outputs": [
    {
     "name": "stdout",
     "output_type": "stream",
     "text": [
      "Thare are it!\n"
     ]
    }
   ],
   "source": [
    "print(\"This is it!\".replace(\"is\", \"are\"))"
   ]
  },
  {
   "cell_type": "code",
   "execution_count": 4,
   "id": "9944f790-e3b1-41ab-9c46-ab07b18d6f6d",
   "metadata": {},
   "outputs": [
    {
     "name": "stdout",
     "output_type": "stream",
     "text": [
      "www.pythoninstitute.org\n",
      "Thare are it!\n",
      "Apple \n",
      "Thare is it!\n",
      "Thare are it!\n"
     ]
    }
   ],
   "source": [
    "# Demonstrating the replace() method:\n",
    "print(\"www.netacad.com\".replace(\"netacad.com\", \"pythoninstitute.org\"))\n",
    "print(\"This is it!\".replace(\"is\", \"are\"))\n",
    "print(\"Apple juice\".replace(\"juice\", \"\"))\n",
    "print(\"This is it!\".replace(\"is\", \"are\", 1))\n",
    "print(\"This is it!\".replace(\"is\", \"are\", 2))\n",
    "\n"
   ]
  },
  {
   "cell_type": "code",
   "execution_count": 5,
   "id": "f1ef130d-8c5e-48b4-81a4-b04917c81522",
   "metadata": {},
   "outputs": [
    {
     "name": "stdout",
     "output_type": "stream",
     "text": [
      "cis\n"
     ]
    }
   ],
   "source": [
    "print(\"cisco.com\".rstrip(\".com\"))"
   ]
  },
  {
   "cell_type": "code",
   "execution_count": 8,
   "id": "13ee0ae7-6631-4c2a-94ab-da553a9b5d1c",
   "metadata": {},
   "outputs": [
    {
     "name": "stdout",
     "output_type": "stream",
     "text": [
      "['mubarak', 'ladip', '', 'lalekan']\n",
      "['mubarak', 'oladipo', 'olalekan']\n"
     ]
    }
   ],
   "source": [
    "print('mubarakoladipoolalekan'.split('o'))\n",
    "print('mubarak oladipo olalekan'.split())"
   ]
  },
  {
   "cell_type": "code",
   "execution_count": 11,
   "id": "ae49331e-3120-44cf-807d-e850ec51fe26",
   "metadata": {},
   "outputs": [
    {
     "name": "stdout",
     "output_type": "stream",
     "text": [
      "False\n",
      "True\n",
      "\n",
      "[aleph]\n"
     ]
    }
   ],
   "source": [
    "# Demonstrating the startswith() method:\n",
    "print(\"omega\".startswith(\"meg\"))\n",
    "print(\"omega\".startswith(\"om\"))\n",
    "\n",
    "print()\n",
    "\n",
    "# Demonstrating the strip() method:\n",
    "print(\"[\" + \"   aleph   \".strip() + \"]\")\n"
   ]
  },
  {
   "cell_type": "code",
   "execution_count": null,
   "id": "8a2b283c-d2f4-452b-b1d4-41f4a0f917a5",
   "metadata": {},
   "outputs": [],
   "source": [
    "# Caesar cipher.\n",
    "text = input(\"Enter your message: \")\n",
    "cipher = ''\n",
    "for char in text:\n",
    "    if not char.isalpha():\n",
    "        continue\n",
    "    char = char.upper()\n",
    "    code = ord(char) + 1\n",
    "    if code > ord('Z'):\n",
    "        code = ord('A')\n",
    "    cipher += chr(code)\n",
    "\n",
    "print(cipher)\n",
    "\n",
    "\n",
    "# Let's trace the code:\n",
    "\n",
    "# line 02: ask the user to enter the open (unencrypted), one-line message;\n",
    "# line 03: prepare a string for an encrypted message (empty for now)\n",
    "# line 04: start the iteration through the message;\n",
    "# line 05: if the current character is not alphabetic...\n",
    "# line 06: ...ignore it;\n",
    "# line 07: convert the letter to upper-case (it's preferable to do it blindly, rather than check whether it's needed or not)\n",
    "# line 08: get the code of the letter and increment it by one;\n",
    "# line 09: if the resulting code has \"left\" the Latin alphabet (if it's greater than the Z code)...\n",
    "# line 10: ...change it to the A code;\n",
    "# line 11: append the received character to the end of the encrypted message;\n",
    "# line 13: print the cipher."
   ]
  },
  {
   "cell_type": "code",
   "execution_count": 12,
   "id": "873c0da3-eb69-495d-95cf-38b39f0f490c",
   "metadata": {},
   "outputs": [
    {
     "name": "stdin",
     "output_type": "stream",
     "text": [
      "Enter your cryptogram:  d\n"
     ]
    },
    {
     "name": "stdout",
     "output_type": "stream",
     "text": [
      "C\n"
     ]
    }
   ],
   "source": [
    "# Caesar cipher - decrypting a message.\n",
    "cipher = input('Enter your cryptogram: ')\n",
    "text = ''\n",
    "for char in cipher:\n",
    "    if not char.isalpha():\n",
    "        continue\n",
    "    char = char.upper()\n",
    "    code = ord(char) - 1\n",
    "    if code < ord('A'):\n",
    "        code = ord('Z')\n",
    "    text += chr(code)\n",
    "\n",
    "print(text)\n"
   ]
  },
  {
   "cell_type": "code",
   "execution_count": 2,
   "id": "39111ce9-7f9d-45ba-a8b3-488b54ec3190",
   "metadata": {},
   "outputs": [
    {
     "name": "stdin",
     "output_type": "stream",
     "text": [
      "Enter your age:   \n"
     ]
    },
    {
     "ename": "ValueError",
     "evalue": "invalid literal for int() with base 10: ' '",
     "output_type": "error",
     "traceback": [
      "\u001b[1;31m---------------------------------------------------------------------------\u001b[0m",
      "\u001b[1;31mValueError\u001b[0m                                Traceback (most recent call last)",
      "Cell \u001b[1;32mIn[2], line 5\u001b[0m\n\u001b[0;32m      2\u001b[0m age_input \u001b[38;5;241m=\u001b[39m \u001b[38;5;28minput\u001b[39m(\u001b[38;5;124m\"\u001b[39m\u001b[38;5;124mEnter your age: \u001b[39m\u001b[38;5;124m\"\u001b[39m)\n\u001b[0;32m      4\u001b[0m \u001b[38;5;66;03m# Convert the input to an integer\u001b[39;00m\n\u001b[1;32m----> 5\u001b[0m age \u001b[38;5;241m=\u001b[39m \u001b[38;5;28;43mint\u001b[39;49m\u001b[43m(\u001b[49m\u001b[43mage_input\u001b[49m\u001b[43m)\u001b[49m\n\u001b[0;32m      7\u001b[0m \u001b[38;5;66;03m# Use assert to ensure age is not negative\u001b[39;00m\n\u001b[0;32m      8\u001b[0m \u001b[38;5;28;01massert\u001b[39;00m age \u001b[38;5;241m>\u001b[39m\u001b[38;5;241m=\u001b[39m \u001b[38;5;241m0\u001b[39m, \u001b[38;5;124m\"\u001b[39m\u001b[38;5;124mAge cannot be negative\u001b[39m\u001b[38;5;124m\"\u001b[39m\n",
      "\u001b[1;31mValueError\u001b[0m: invalid literal for int() with base 10: ' '"
     ]
    }
   ],
   "source": [
    "# Ask the user for their age\n",
    "age_input = input(\"Enter your age: \")\n",
    "\n",
    "# Convert the input to an integer\n",
    "age = int(age_input)\n",
    "\n",
    "# Use assert to ensure age is not negative\n",
    "assert age >= 0, \"Age cannot be negative\"\n",
    "\n",
    "print(f\"Your age is {age}.\")\n"
   ]
  },
  {
   "cell_type": "code",
   "execution_count": null,
   "id": "1c800e45-04d4-403f-9f39-1b6a24716bb5",
   "metadata": {},
   "outputs": [],
   "source": [
    "import csv\n",
    "\n",
    "with open('askja.csv', 'r') as file:\n",
    "    reader = csv.reader(file)\n",
    "\n",
    "for row in reader:\n",
    "    print(row)"
   ]
  },
  {
   "cell_type": "code",
   "execution_count": 2,
   "id": "7e9ddc94-d2ab-4660-aaf7-07040db0b570",
   "metadata": {},
   "outputs": [
    {
     "name": "stdout",
     "output_type": "stream",
     "text": [
      "['apple', 'banana', 'cherry']\n"
     ]
    }
   ],
   "source": [
    "text = \"apple,banana,cherry\"\n",
    "parts = text.split(\",\")  # Comma is the delimiter\n",
    "print(parts)  # ['apple', 'banana', 'cherry']\n"
   ]
  },
  {
   "cell_type": "code",
   "execution_count": null,
   "id": "121a3713-7b31-4e4f-8cd1-0dfcff92b542",
   "metadata": {},
   "outputs": [],
   "source": [
    "import csv\n",
    "with open('innovators.csv', 'r') as file:\n",
    "    reader = csv.reader(file, delimiter = '\\t')\n",
    "    for row in reader:\n",
    "        print(row)"
   ]
  },
  {
   "cell_type": "code",
   "execution_count": 4,
   "id": "49f7e26c-9a3a-41ef-9901-54866db45e43",
   "metadata": {},
   "outputs": [
    {
     "name": "stdin",
     "output_type": "stream",
     "text": [
      "Enter a number:  2\n"
     ]
    },
    {
     "name": "stdout",
     "output_type": "stream",
     "text": [
      "0.5\n"
     ]
    }
   ],
   "source": [
    "# program to print the reciprocal of even numbers\n",
    "\n",
    "try:\n",
    "    num = int(input(\"Enter a number: \"))\n",
    "    assert num % 2 == 0\n",
    "except:\n",
    "    print(\"Not an even number!\")\n",
    "else:\n",
    "    reciprocal = 1/num\n",
    "    print(reciprocal)"
   ]
  },
  {
   "cell_type": "code",
   "execution_count": 2,
   "id": "a6219844-35a0-4085-85d1-538575670085",
   "metadata": {},
   "outputs": [
    {
     "name": "stdout",
     "output_type": "stream",
     "text": [
      "You are welcome, muba\n"
     ]
    }
   ],
   "source": [
    "class sayName:\n",
    "    def __init__(self, name):\n",
    "        self.name  = name\n",
    "\n",
    "entry_message = sayName('muba')\n",
    "\n",
    "print(f'You are welcome, {entry_message.name}')"
   ]
  },
  {
   "cell_type": "code",
   "execution_count": 3,
   "id": "6f7d1545-e4ce-4633-9972-9dcfa41c1cf1",
   "metadata": {},
   "outputs": [
    {
     "name": "stdout",
     "output_type": "stream",
     "text": [
      "You are welcome, muba\n"
     ]
    }
   ],
   "source": [
    "class sayName:\n",
    "    def __init__(self, name):\n",
    "        self.name  = name\n",
    "\n",
    "    def welcome(self):\n",
    "        print(f'You are welcome, {self.name}')\n",
    "\n",
    "entry_message = sayName('muba')\n",
    "entry_message.welcome()\n"
   ]
  },
  {
   "cell_type": "code",
   "execution_count": 28,
   "id": "8dfd0b23-5753-42d4-8658-0c077d1658d3",
   "metadata": {},
   "outputs": [
    {
     "ename": "TypeError",
     "evalue": "sayingGoodbye.farewell() takes 0 positional arguments but 1 was given",
     "output_type": "error",
     "traceback": [
      "\u001b[1;31m---------------------------------------------------------------------------\u001b[0m",
      "\u001b[1;31mTypeError\u001b[0m                                 Traceback (most recent call last)",
      "Cell \u001b[1;32mIn[28], line 14\u001b[0m\n\u001b[0;32m     12\u001b[0m my_intro \u001b[38;5;241m=\u001b[39m sayingGoodbye(\u001b[38;5;124m'\u001b[39m\u001b[38;5;124mMubarak\u001b[39m\u001b[38;5;124m'\u001b[39m, \u001b[38;5;241m30\u001b[39m)\n\u001b[0;32m     13\u001b[0m \u001b[38;5;66;03m# print(my_intro)\u001b[39;00m\n\u001b[1;32m---> 14\u001b[0m \u001b[43mmy_intro\u001b[49m\u001b[38;5;241;43m.\u001b[39;49m\u001b[43mfarewell\u001b[49m\u001b[43m(\u001b[49m\u001b[43m)\u001b[49m\n",
      "\u001b[1;31mTypeError\u001b[0m: sayingGoodbye.farewell() takes 0 positional arguments but 1 was given"
     ]
    }
   ],
   "source": [
    "class sayingGoodbye:\n",
    "    def __init__(self, name, year):\n",
    "        self.name = name \n",
    "        self.year = year \n",
    "\n",
    "    def farewell(self):\n",
    "        print(f'My name is {self.name}, and I have spent close to {self.year} years')\n",
    "\n",
    "    def __str__(self):\n",
    "        return (f'My name is {self.name}, and I have spent close to {self.year} years')\n",
    "\n",
    "my_intro = sayingGoodbye('Mubarak', 30)\n",
    "# print(my_intro)\n",
    "my_intro.farewell()"
   ]
  },
  {
   "cell_type": "code",
   "execution_count": null,
   "id": "a2f86ef0-8f05-4be9-8ecd-d56440ba1f2e",
   "metadata": {},
   "outputs": [],
   "source": []
  },
  {
   "cell_type": "code",
   "execution_count": null,
   "id": "8454ae3f-bade-4e36-8169-361907174a7f",
   "metadata": {},
   "outputs": [],
   "source": []
  }
 ],
 "metadata": {
  "kernelspec": {
   "display_name": "Python 3 (ipykernel)",
   "language": "python",
   "name": "python3"
  },
  "language_info": {
   "codemirror_mode": {
    "name": "ipython",
    "version": 3
   },
   "file_extension": ".py",
   "mimetype": "text/x-python",
   "name": "python",
   "nbconvert_exporter": "python",
   "pygments_lexer": "ipython3",
   "version": "3.12.4"
  }
 },
 "nbformat": 4,
 "nbformat_minor": 5
}
