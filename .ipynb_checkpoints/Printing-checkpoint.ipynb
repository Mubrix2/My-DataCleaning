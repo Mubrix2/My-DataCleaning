{
 "cells": [
  {
   "cell_type": "code",
   "execution_count": 1,
   "id": "d38ff8d5-3a60-41d8-a8ce-9c22e82e5262",
   "metadata": {},
   "outputs": [
    {
     "name": "stdout",
     "output_type": "stream",
     "text": [
      "https:\\\\www.unilorin.edu.ng\n"
     ]
    }
   ],
   "source": [
    "print('https:\\\\\\\\www.unilorin.edu.ng')"
   ]
  },
  {
   "cell_type": "code",
   "execution_count": 2,
   "id": "ba965eeb-319a-4d23-b2e2-e49886876e5d",
   "metadata": {},
   "outputs": [
    {
     "name": "stdout",
     "output_type": "stream",
     "text": [
      "grand jedcok\n",
      "jk\n"
     ]
    }
   ],
   "source": [
    "print('grand jedcok\\njk')"
   ]
  },
  {
   "cell_type": "code",
   "execution_count": null,
   "id": "54544dc9-4f1b-4bbb-a438-09d1fa32e288",
   "metadata": {},
   "outputs": [],
   "source": []
  }
 ],
 "metadata": {
  "kernelspec": {
   "display_name": "Python 3 (ipykernel)",
   "language": "python",
   "name": "python3"
  },
  "language_info": {
   "codemirror_mode": {
    "name": "ipython",
    "version": 3
   },
   "file_extension": ".py",
   "mimetype": "text/x-python",
   "name": "python",
   "nbconvert_exporter": "python",
   "pygments_lexer": "ipython3",
   "version": "3.12.4"
  }
 },
 "nbformat": 4,
 "nbformat_minor": 5
}
